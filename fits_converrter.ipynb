{
 "cells": [
  {
   "cell_type": "code",
   "execution_count": 6,
   "id": "6f0438e9-63f9-4321-81af-d521d964585c",
   "metadata": {},
   "outputs": [
    {
     "name": "stdout",
     "output_type": "stream",
     "text": [
      "Converting 2dets_Am241_1000pkt_15Mhz_iitb_20240815_timestamps.txt to /home/arya/Downloads/20240815-20240816T042226Z-001/20240815/2dets_Am241_1000pkt_15Mhz_iitb_20240815_timestamps.fits\n",
      "Converting 2dets_Am241_10000pkt_30Mhz_iitb_20240815_timestamps.txt to /home/arya/Downloads/20240815-20240816T042226Z-001/20240815/2dets_Am241_10000pkt_30Mhz_iitb_20240815_timestamps.fits\n",
      "Converting 2dets_Am241_1000pkt_20Mhz_iitb_20240815_timestamps.txt to /home/arya/Downloads/20240815-20240816T042226Z-001/20240815/2dets_Am241_1000pkt_20Mhz_iitb_20240815_timestamps.fits\n",
      "Converting 2dets_Am241_1000pkt_25Mhz_iitb_20240815_timestamps.txt to /home/arya/Downloads/20240815-20240816T042226Z-001/20240815/2dets_Am241_1000pkt_25Mhz_iitb_20240815_timestamps.fits\n",
      "Converting 2dets_Am241_30000pkt_30Mhz_iitb_20240815_timestamps.txt to /home/arya/Downloads/20240815-20240816T042226Z-001/20240815/2dets_Am241_30000pkt_30Mhz_iitb_20240815_timestamps.fits\n",
      "Converting 2dets_Am241_1000pkt_10Mhz_iitb_20240815_timestamps.txt to /home/arya/Downloads/20240815-20240816T042226Z-001/20240815/2dets_Am241_1000pkt_10Mhz_iitb_20240815_timestamps.fits\n"
     ]
    },
    {
     "ename": "ValueError",
     "evalue": "invalid literal for int() with base 10: ''",
     "output_type": "error",
     "traceback": [
      "\u001b[0;31m---------------------------------------------------------------------------\u001b[0m",
      "\u001b[0;31mValueError\u001b[0m                                Traceback (most recent call last)",
      "Cell \u001b[0;32mIn[6], line 44\u001b[0m\n\u001b[1;32m     42\u001b[0m \u001b[38;5;28;01mif\u001b[39;00m \u001b[38;5;129;01mnot\u001b[39;00m os\u001b[38;5;241m.\u001b[39mpath\u001b[38;5;241m.\u001b[39mexists(outfile):\n\u001b[1;32m     43\u001b[0m     \u001b[38;5;28mprint\u001b[39m(\u001b[38;5;124mf\u001b[39m\u001b[38;5;124m\"\u001b[39m\u001b[38;5;124mConverting \u001b[39m\u001b[38;5;132;01m{\u001b[39;00minfile\u001b[38;5;132;01m}\u001b[39;00m\u001b[38;5;124m to \u001b[39m\u001b[38;5;132;01m{\u001b[39;00moutfile\u001b[38;5;132;01m}\u001b[39;00m\u001b[38;5;124m\"\u001b[39m)\n\u001b[0;32m---> 44\u001b[0m     data2fits(os\u001b[38;5;241m.\u001b[39mpath\u001b[38;5;241m.\u001b[39mjoin(basepath, infile), outfile)\n\u001b[1;32m     45\u001b[0m \u001b[38;5;28;01melse\u001b[39;00m:\n\u001b[1;32m     46\u001b[0m     \u001b[38;5;28mprint\u001b[39m(\u001b[38;5;124mf\u001b[39m\u001b[38;5;124m\"\u001b[39m\u001b[38;5;124mSkipping \u001b[39m\u001b[38;5;132;01m{\u001b[39;00minfile\u001b[38;5;132;01m}\u001b[39;00m\u001b[38;5;124m: \u001b[39m\u001b[38;5;132;01m{\u001b[39;00moutfile\u001b[38;5;132;01m}\u001b[39;00m\u001b[38;5;124m already exists.\u001b[39m\u001b[38;5;124m\"\u001b[39m)\n",
      "Cell \u001b[0;32mIn[6], line 16\u001b[0m, in \u001b[0;36mdata2fits\u001b[0;34m(infile, outfile)\u001b[0m\n\u001b[1;32m     13\u001b[0m     \u001b[38;5;66;03m# print(l1)\u001b[39;00m\n\u001b[1;32m     15\u001b[0m biglist \u001b[38;5;241m=\u001b[39m l1[\u001b[38;5;241m1\u001b[39m:\u001b[38;5;241m-\u001b[39m\u001b[38;5;241m1\u001b[39m]\u001b[38;5;241m.\u001b[39msplit(\u001b[38;5;124m\"\u001b[39m\u001b[38;5;124m,\u001b[39m\u001b[38;5;124m\"\u001b[39m)\n\u001b[0;32m---> 16\u001b[0m event_data \u001b[38;5;241m=\u001b[39m np\u001b[38;5;241m.\u001b[39marray(biglist, dtype\u001b[38;5;241m=\u001b[39mnp\u001b[38;5;241m.\u001b[39muint64)\n\u001b[1;32m     17\u001b[0m timestamp \u001b[38;5;241m=\u001b[39m np\u001b[38;5;241m.\u001b[39muint32((event_data \u001b[38;5;241m&\u001b[39m \u001b[38;5;241m0xffffffff00000000\u001b[39m) \u001b[38;5;241m>>\u001b[39m \u001b[38;5;241m32\u001b[39m)\n\u001b[1;32m     18\u001b[0m det_id \u001b[38;5;241m=\u001b[39m np\u001b[38;5;241m.\u001b[39mint16((event_data \u001b[38;5;241m&\u001b[39m \u001b[38;5;241m0x00000000ff000000\u001b[39m) \u001b[38;5;241m>>\u001b[39m \u001b[38;5;241m24\u001b[39m)\n",
      "\u001b[0;31mValueError\u001b[0m: invalid literal for int() with base 10: ''"
     ]
    }
   ],
   "source": [
    "# Description: To convert .txt files from experiments into .fits file\n",
    "\n",
    "import numpy as np\n",
    "from astropy.table import Table\n",
    "import glob\n",
    "import os\n",
    "import sys\n",
    "\n",
    "\n",
    "def data2fits(infile, outfile):\n",
    "    with open(infile, 'r') as f:\n",
    "        l1 = f.readline()\n",
    "        # print(l1)\n",
    "\n",
    "    biglist = l1[1:-1].split(\",\")\n",
    "    event_data = np.array(biglist, dtype=np.uint64)\n",
    "    timestamp = np.uint32((event_data & 0xffffffff00000000) >> 32)\n",
    "    det_id = np.int16((event_data & 0x00000000ff000000) >> 24)\n",
    "    pix_id = np.int16((event_data & 0x0000000000ff0000) >> 16)\n",
    "    energy = np.int16((event_data & 0x000000000000ffff) >> 0)\n",
    "\n",
    "    tab = Table(data=(timestamp, det_id, pix_id, energy), names=(\"time\", \"detid\", \"pixid\", \"pha\"))\n",
    "    tab.write(outfile)\n",
    "\n",
    "    # df = pd.DataFrame(data=np.array([timestamp, det_id, pix_id, energy]).T, \n",
    "    #                   columns=(\"time\", \"detid\", \"pixid\", \"pha\"))\n",
    "    # detdata = df.groupby(df['detid'])\n",
    "\n",
    "\n",
    "if __name__ == \"__main__\":\n",
    "   \n",
    "    basepath = \"/home/arya/Downloads/20240815-20240816T042226Z-001/20240815\"     # 'expt_data/20230829'\n",
    "    maxcount = -1               # Set <=0 if all files are to be processed, else end after this\n",
    "    # infile = '20230628_1418_am_stc1_2_50pkts_ext_hv_spectra.txt'\n",
    "\n",
    "    for count, infile in enumerate(glob.glob1(basepath, \"*.txt\")):\n",
    "        # print(count)\n",
    "        if count == maxcount:\n",
    "            print(f\"Stopping the loop, max count {maxcount} reached\")\n",
    "            break\n",
    "        outfile = os.path.join(basepath, infile.replace(\".txt\", \".fits\"))\n",
    "        if not os.path.exists(outfile):\n",
    "            print(f\"Converting {infile} to {outfile}\")\n",
    "            data2fits(os.path.join(basepath, infile), outfile)\n",
    "        else:\n",
    "            print(f\"Skipping {infile}: {outfile} already exists.\")\n",
    "        # print(count)"
   ]
  },
  {
   "cell_type": "code",
   "execution_count": null,
   "id": "2ed86010-6c9d-45b5-808f-e219023e925a",
   "metadata": {},
   "outputs": [],
   "source": []
  }
 ],
 "metadata": {
  "kernelspec": {
   "display_name": "Python 3 (ipykernel)",
   "language": "python",
   "name": "python3"
  },
  "language_info": {
   "codemirror_mode": {
    "name": "ipython",
    "version": 3
   },
   "file_extension": ".py",
   "mimetype": "text/x-python",
   "name": "python",
   "nbconvert_exporter": "python",
   "pygments_lexer": "ipython3",
   "version": "3.12.4"
  }
 },
 "nbformat": 4,
 "nbformat_minor": 5
}

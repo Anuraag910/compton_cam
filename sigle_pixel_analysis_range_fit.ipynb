{
 "cells": [
  {
   "cell_type": "code",
   "execution_count": 1,
   "id": "7c0ae6af",
   "metadata": {},
   "outputs": [],
   "source": [
    "from astropy.io import fits\n",
    "import numpy as np\n",
    "import astropy\n",
    "from astropy.table import Table\n",
    "import matplotlib.pyplot as plt"
   ]
  },
  {
   "cell_type": "code",
   "execution_count": 3,
   "id": "d501d6c2",
   "metadata": {},
   "outputs": [],
   "source": [
    "file = '/home/suman/tifr/20230724_1516_1000pkts_Am241_20kev_org_code.fits'\n",
    "file1 = path + '202307011_1531_Eu_on_det1_30000pkts.fits'\n",
    "hdul = fits.open(file)[1]"
   ]
  },
  {
   "cell_type": "code",
   "execution_count": 4,
   "id": "a4d28b34",
   "metadata": {},
   "outputs": [
    {
     "data": {
      "text/html": [
       "<div><i>Table length=128000</i>\n",
       "<table id=\"table139851419617696\" class=\"table-striped table-bordered table-condensed\">\n",
       "<thead><tr><th>time</th><th>detid</th><th>pixid</th><th>pha</th></tr></thead>\n",
       "<thead><tr><th>uint32</th><th>int16</th><th>int16</th><th>int16</th></tr></thead>\n",
       "<tr><td>0</td><td>0</td><td>0</td><td>0</td></tr>\n",
       "<tr><td>0</td><td>0</td><td>0</td><td>0</td></tr>\n",
       "<tr><td>0</td><td>0</td><td>0</td><td>0</td></tr>\n",
       "<tr><td>0</td><td>0</td><td>0</td><td>0</td></tr>\n",
       "<tr><td>0</td><td>0</td><td>0</td><td>0</td></tr>\n",
       "<tr><td>0</td><td>0</td><td>0</td><td>0</td></tr>\n",
       "<tr><td>...</td><td>...</td><td>...</td><td>...</td></tr>\n",
       "<tr><td>3700531025</td><td>1</td><td>185</td><td>458</td></tr>\n",
       "<tr><td>3700548862</td><td>1</td><td>170</td><td>991</td></tr>\n",
       "<tr><td>3700550623</td><td>1</td><td>200</td><td>960</td></tr>\n",
       "<tr><td>3700558642</td><td>1</td><td>230</td><td>1069</td></tr>\n",
       "<tr><td>3700573279</td><td>1</td><td>216</td><td>1000</td></tr>\n",
       "<tr><td>3700575670</td><td>1</td><td>214</td><td>318</td></tr>\n",
       "<tr><td>3700577801</td><td>1</td><td>185</td><td>923</td></tr>\n",
       "</table></div>"
      ],
      "text/plain": [
       "<Table length=128000>\n",
       "   time    detid pixid  pha \n",
       "  uint32   int16 int16 int16\n",
       "---------- ----- ----- -----\n",
       "         0     0     0     0\n",
       "         0     0     0     0\n",
       "         0     0     0     0\n",
       "         0     0     0     0\n",
       "         0     0     0     0\n",
       "         0     0     0     0\n",
       "       ...   ...   ...   ...\n",
       "3700531025     1   185   458\n",
       "3700548862     1   170   991\n",
       "3700550623     1   200   960\n",
       "3700558642     1   230  1069\n",
       "3700573279     1   216  1000\n",
       "3700575670     1   214   318\n",
       "3700577801     1   185   923"
      ]
     },
     "execution_count": 4,
     "metadata": {},
     "output_type": "execute_result"
    }
   ],
   "source": [
    "data = hdul.data\n",
    "tab = Table(data)\n",
    "tab"
   ]
  },
  {
   "cell_type": "code",
   "execution_count": 5,
   "id": "2484ebc7",
   "metadata": {},
   "outputs": [
    {
     "data": {
      "text/plain": [
       "array([  0,   0,   0, ..., 216, 214, 185], dtype=int16)"
      ]
     },
     "execution_count": 5,
     "metadata": {},
     "output_type": "execute_result"
    }
   ],
   "source": [
    "data['pixid']"
   ]
  },
  {
   "cell_type": "code",
   "execution_count": 6,
   "id": "09d04a84",
   "metadata": {},
   "outputs": [],
   "source": [
    "#mask = 0 < np.any(data['pixid']) < 3"
   ]
  },
  {
   "cell_type": "code",
   "execution_count": 7,
   "id": "49715b39",
   "metadata": {},
   "outputs": [],
   "source": [
    "#plt.plot(data[\"pixid\"][mask],data[\"pha\"][mask])"
   ]
  },
  {
   "cell_type": "code",
   "execution_count": 8,
   "id": "1a654e47",
   "metadata": {},
   "outputs": [
    {
     "data": {
      "text/plain": [
       "FITS_rec([(2809842599, 1, 5, 2218), (2860364184, 1, 5,  427),\n",
       "          (2947556118, 1, 5, 1091), (2955423017, 1, 5,  900),\n",
       "          (2972472846, 1, 5, 2464), (3091380079, 1, 5, 1112),\n",
       "          (3382254376, 1, 5, 4095), (3660707244, 1, 5,  875)],\n",
       "         dtype=(numpy.record, [('time', '>i4'), ('detid', '>i2'), ('pixid', '>i2'), ('pha', '>i2')]))"
      ]
     },
     "execution_count": 8,
     "metadata": {},
     "output_type": "execute_result"
    }
   ],
   "source": [
    "detid = data[data['detid']== 1]\n",
    "data_ = detid[detid['pixid'] == 5]\n",
    "\n",
    "np.shape(data_)\n",
    "data_\n"
   ]
  },
  {
   "cell_type": "code",
   "execution_count": 9,
   "id": "fb6ffd3f",
   "metadata": {},
   "outputs": [],
   "source": [
    "tab = Table(data)\n",
    "#tab"
   ]
  },
  {
   "cell_type": "code",
   "execution_count": 10,
   "id": "c4bbce49",
   "metadata": {},
   "outputs": [
    {
     "data": {
      "text/html": [
       "<div><i>Table length=8</i>\n",
       "<table id=\"table139851419615488\" class=\"table-striped table-bordered table-condensed\">\n",
       "<thead><tr><th>time</th><th>detid</th><th>pixid</th><th>pha</th></tr></thead>\n",
       "<thead><tr><th>uint32</th><th>int16</th><th>int16</th><th>int16</th></tr></thead>\n",
       "<tr><td>2809842599</td><td>1</td><td>5</td><td>2218</td></tr>\n",
       "<tr><td>2860364184</td><td>1</td><td>5</td><td>427</td></tr>\n",
       "<tr><td>2947556118</td><td>1</td><td>5</td><td>1091</td></tr>\n",
       "<tr><td>2955423017</td><td>1</td><td>5</td><td>900</td></tr>\n",
       "<tr><td>2972472846</td><td>1</td><td>5</td><td>2464</td></tr>\n",
       "<tr><td>3091380079</td><td>1</td><td>5</td><td>1112</td></tr>\n",
       "<tr><td>3382254376</td><td>1</td><td>5</td><td>4095</td></tr>\n",
       "<tr><td>3660707244</td><td>1</td><td>5</td><td>875</td></tr>\n",
       "</table></div>"
      ],
      "text/plain": [
       "<Table length=8>\n",
       "   time    detid pixid  pha \n",
       "  uint32   int16 int16 int16\n",
       "---------- ----- ----- -----\n",
       "2809842599     1     5  2218\n",
       "2860364184     1     5   427\n",
       "2947556118     1     5  1091\n",
       "2955423017     1     5   900\n",
       "2972472846     1     5  2464\n",
       "3091380079     1     5  1112\n",
       "3382254376     1     5  4095\n",
       "3660707244     1     5   875"
      ]
     },
     "execution_count": 10,
     "metadata": {},
     "output_type": "execute_result"
    }
   ],
   "source": [
    "tab_ = Table(data_)\n",
    "tab_"
   ]
  },
  {
   "cell_type": "code",
   "execution_count": 11,
   "id": "c6716cb9",
   "metadata": {},
   "outputs": [
    {
     "data": {
      "text/plain": [
       "8"
      ]
     },
     "execution_count": 11,
     "metadata": {},
     "output_type": "execute_result"
    }
   ],
   "source": [
    "len(np.unique(data_['time']))"
   ]
  },
  {
   "cell_type": "code",
   "execution_count": 12,
   "id": "79022234",
   "metadata": {},
   "outputs": [],
   "source": [
    "import matplotlib.pyplot as plt"
   ]
  },
  {
   "cell_type": "code",
   "execution_count": 13,
   "id": "ae267038",
   "metadata": {},
   "outputs": [
    {
     "data": {
      "text/plain": [
       "8"
      ]
     },
     "execution_count": 13,
     "metadata": {},
     "output_type": "execute_result"
    }
   ],
   "source": [
    "len(data_['pha'])"
   ]
  },
  {
   "cell_type": "code",
   "execution_count": 14,
   "id": "637b4d06",
   "metadata": {},
   "outputs": [
    {
     "data": {
      "text/plain": [
       "2.8284271247461903"
      ]
     },
     "execution_count": 14,
     "metadata": {},
     "output_type": "execute_result"
    }
   ],
   "source": [
    "np.sqrt(len(data_['PHA']))"
   ]
  },
  {
   "cell_type": "code",
   "execution_count": 15,
   "id": "e6192bc7",
   "metadata": {},
   "outputs": [
    {
     "data": {
      "text/plain": [
       "Text(0, 0.5, 'PHA')"
      ]
     },
     "execution_count": 15,
     "metadata": {},
     "output_type": "execute_result"
    },
    {
     "data": {
      "image/png": "[encoded data removed]",
      "text/plain": [
       "<Figure size 640x480 with 1 Axes>"
      ]
     },
     "metadata": {},
     "output_type": "display_data"
    }
   ],
   "source": [
    "plt.plot((data_['time']),(data_['pha']),\".\", label = 'Det 1, pixel = 5')\n",
    "plt.xlabel(\"Aqusiton time($\\mu$s)\")\n",
    "plt.legend()\n",
    "plt.ylabel(\"PHA\")\n",
    "#plt.xscale(\"log\")\n",
    "#plt.yscale(\"log\")\n",
    "#plt.xlim(0, 100000000)"
   ]
  },
  {
   "cell_type": "code",
   "execution_count": 16,
   "id": "5b626fff",
   "metadata": {},
   "outputs": [],
   "source": [
    " N,bins= np.histogram(data_['pha'], bins=300)\n",
    "# plt.xlabel(\"PHA\")\n",
    "# plt.ylabel(\"Counts\")\n",
    "# plt.legend()\n",
    "# plt.show()\n",
    "# len(bins)"
   ]
  },
  {
   "cell_type": "code",
   "execution_count": 17,
   "id": "f553ef6f",
   "metadata": {},
   "outputs": [
    {
     "data": {
      "text/plain": [
       "300"
      ]
     },
     "execution_count": 17,
     "metadata": {},
     "output_type": "execute_result"
    }
   ],
   "source": [
    "len(N)"
   ]
  },
  {
   "cell_type": "code",
   "execution_count": 18,
   "id": "b28fb6ce",
   "metadata": {},
   "outputs": [],
   "source": [
    "bin_centers = (bins[:-1] + bins[1:]) / 2"
   ]
  },
  {
   "cell_type": "code",
   "execution_count": 19,
   "id": "07fdebd4",
   "metadata": {},
   "outputs": [],
   "source": [
    "def gauss(x,amp,mean,stdev):\n",
    "    return amp*np.exp(-(x-mean)**2/(2*stdev**2))"
   ]
  },
  {
   "cell_type": "code",
   "execution_count": 20,
   "id": "73624f81",
   "metadata": {},
   "outputs": [
    {
     "data": {
      "text/plain": [
       "6.107321563648419e-166"
      ]
     },
     "execution_count": 20,
     "metadata": {},
     "output_type": "execute_result"
    }
   ],
   "source": [
    "gauss(1,10,9.3,0.3)"
   ]
  },
  {
   "cell_type": "code",
   "execution_count": 21,
   "id": "a8cdfe86",
   "metadata": {},
   "outputs": [],
   "source": [
    "p0 = [np.max(N),np.mean(data_['pha']),np.std(data_['pha'])]"
   ]
  },
  {
   "cell_type": "code",
   "execution_count": 22,
   "id": "082a0f7c",
   "metadata": {},
   "outputs": [
    {
     "data": {
      "text/plain": [
       "[1, 1647.75, 1130.4857086668544]"
      ]
     },
     "execution_count": 22,
     "metadata": {},
     "output_type": "execute_result"
    }
   ],
   "source": [
    "p0"
   ]
  },
  {
   "cell_type": "code",
   "execution_count": 23,
   "id": "d13cb15a",
   "metadata": {},
   "outputs": [],
   "source": [
    "from scipy.optimize import curve_fit"
   ]
  },
  {
   "cell_type": "code",
   "execution_count": 24,
   "id": "9c520c30",
   "metadata": {},
   "outputs": [
    {
     "ename": "RuntimeError",
     "evalue": "Optimal parameters not found: Number of calls to function has reached maxfev = 800.",
     "output_type": "error",
     "traceback": [
      "\u001b[0;31m---------------------------------------------------------------------------\u001b[0m",
      "\u001b[0;31mRuntimeError\u001b[0m                              Traceback (most recent call last)",
      "\u001b[0;32m/tmp/ipykernel_182341/4025578458.py\u001b[0m in \u001b[0;36m<module>\u001b[0;34m\u001b[0m\n\u001b[0;32m----> 1\u001b[0;31m \u001b[0mparams\u001b[0m\u001b[0;34m,\u001b[0m \u001b[0mpcov\u001b[0m \u001b[0;34m=\u001b[0m \u001b[0mcurve_fit\u001b[0m\u001b[0;34m(\u001b[0m\u001b[0mgauss\u001b[0m\u001b[0;34m,\u001b[0m\u001b[0mbin_centers\u001b[0m\u001b[0;34m,\u001b[0m\u001b[0mN\u001b[0m\u001b[0;34m,\u001b[0m\u001b[0mp0\u001b[0m\u001b[0;34m)\u001b[0m\u001b[0;34m\u001b[0m\u001b[0;34m\u001b[0m\u001b[0m\n\u001b[0m\u001b[1;32m      2\u001b[0m \u001b[0merrors\u001b[0m \u001b[0;34m=\u001b[0m \u001b[0mnp\u001b[0m\u001b[0;34m.\u001b[0m\u001b[0msqrt\u001b[0m\u001b[0;34m(\u001b[0m\u001b[0mnp\u001b[0m\u001b[0;34m.\u001b[0m\u001b[0mdiag\u001b[0m\u001b[0;34m(\u001b[0m\u001b[0mpcov\u001b[0m\u001b[0;34m)\u001b[0m\u001b[0;34m)\u001b[0m\u001b[0;34m\u001b[0m\u001b[0;34m\u001b[0m\u001b[0m\n\u001b[1;32m      3\u001b[0m \u001b[0mparams\u001b[0m\u001b[0;34m\u001b[0m\u001b[0;34m\u001b[0m\u001b[0m\n",
      "\u001b[0;32m~/anaconda3/lib/python3.9/site-packages/scipy/optimize/_minpack_py.py\u001b[0m in \u001b[0;36mcurve_fit\u001b[0;34m(f, xdata, ydata, p0, sigma, absolute_sigma, check_finite, bounds, method, jac, full_output, **kwargs)\u001b[0m\n\u001b[1;32m    837\u001b[0m         \u001b[0mcost\u001b[0m \u001b[0;34m=\u001b[0m \u001b[0mnp\u001b[0m\u001b[0;34m.\u001b[0m\u001b[0msum\u001b[0m\u001b[0;34m(\u001b[0m\u001b[0minfodict\u001b[0m\u001b[0;34m[\u001b[0m\u001b[0;34m'fvec'\u001b[0m\u001b[0;34m]\u001b[0m \u001b[0;34m**\u001b[0m \u001b[0;36m2\u001b[0m\u001b[0;34m)\u001b[0m\u001b[0;34m\u001b[0m\u001b[0;34m\u001b[0m\u001b[0m\n\u001b[1;32m    838\u001b[0m         \u001b[0;32mif\u001b[0m \u001b[0mier\u001b[0m \u001b[0;32mnot\u001b[0m \u001b[0;32min\u001b[0m \u001b[0;34m[\u001b[0m\u001b[0;36m1\u001b[0m\u001b[0;34m,\u001b[0m \u001b[0;36m2\u001b[0m\u001b[0;34m,\u001b[0m \u001b[0;36m3\u001b[0m\u001b[0;34m,\u001b[0m \u001b[0;36m4\u001b[0m\u001b[0;34m]\u001b[0m\u001b[0;34m:\u001b[0m\u001b[0;34m\u001b[0m\u001b[0;34m\u001b[0m\u001b[0m\n\u001b[0;32m--> 839\u001b[0;31m             \u001b[0;32mraise\u001b[0m \u001b[0mRuntimeError\u001b[0m\u001b[0;34m(\u001b[0m\u001b[0;34m\"Optimal parameters not found: \"\u001b[0m \u001b[0;34m+\u001b[0m \u001b[0merrmsg\u001b[0m\u001b[0;34m)\u001b[0m\u001b[0;34m\u001b[0m\u001b[0;34m\u001b[0m\u001b[0m\n\u001b[0m\u001b[1;32m    840\u001b[0m     \u001b[0;32melse\u001b[0m\u001b[0;34m:\u001b[0m\u001b[0;34m\u001b[0m\u001b[0;34m\u001b[0m\u001b[0m\n\u001b[1;32m    841\u001b[0m         \u001b[0;31m# Rename maxfev (leastsq) to max_nfev (least_squares), if specified.\u001b[0m\u001b[0;34m\u001b[0m\u001b[0;34m\u001b[0m\u001b[0m\n",
      "\u001b[0;31mRuntimeError\u001b[0m: Optimal parameters not found: Number of calls to function has reached maxfev = 800."
     ]
    }
   ],
   "source": [
    "params, pcov = curve_fit(gauss,bin_centers,N,p0)\n",
    "errors = np.sqrt(np.diag(pcov))\n",
    "params"
   ]
  },
  {
   "cell_type": "code",
   "execution_count": 25,
   "id": "1073ff34",
   "metadata": {},
   "outputs": [
    {
     "ename": "NameError",
     "evalue": "name 'params' is not defined",
     "output_type": "error",
     "traceback": [
      "\u001b[0;31m---------------------------------------------------------------------------\u001b[0m",
      "\u001b[0;31mNameError\u001b[0m                                 Traceback (most recent call last)",
      "\u001b[0;32m/tmp/ipykernel_182341/720619096.py\u001b[0m in \u001b[0;36m<module>\u001b[0;34m\u001b[0m\n\u001b[0;32m----> 1\u001b[0;31m \u001b[0mfit_curve\u001b[0m \u001b[0;34m=\u001b[0m \u001b[0mgauss\u001b[0m\u001b[0;34m(\u001b[0m\u001b[0mbin_centers\u001b[0m\u001b[0;34m,\u001b[0m\u001b[0;34m*\u001b[0m\u001b[0mparams\u001b[0m\u001b[0;34m)\u001b[0m\u001b[0;34m\u001b[0m\u001b[0;34m\u001b[0m\u001b[0m\n\u001b[0m",
      "\u001b[0;31mNameError\u001b[0m: name 'params' is not defined"
     ]
    }
   ],
   "source": [
    "fit_curve = gauss(bin_centers,*params)"
   ]
  },
  {
   "cell_type": "code",
   "execution_count": 26,
   "id": "5738377e",
   "metadata": {},
   "outputs": [
    {
     "ename": "NameError",
     "evalue": "name 'fit_curve' is not defined",
     "output_type": "error",
     "traceback": [
      "\u001b[0;31m---------------------------------------------------------------------------\u001b[0m",
      "\u001b[0;31mNameError\u001b[0m                                 Traceback (most recent call last)",
      "\u001b[0;32m/tmp/ipykernel_182341/1532919865.py\u001b[0m in \u001b[0;36m<module>\u001b[0;34m\u001b[0m\n\u001b[0;32m----> 1\u001b[0;31m \u001b[0mplt\u001b[0m\u001b[0;34m.\u001b[0m\u001b[0mplot\u001b[0m\u001b[0;34m(\u001b[0m\u001b[0mbin_centers\u001b[0m\u001b[0;34m,\u001b[0m \u001b[0mfit_curve\u001b[0m\u001b[0;34m,\u001b[0m \u001b[0;34m'r-'\u001b[0m\u001b[0;34m,\u001b[0m \u001b[0mlabel\u001b[0m\u001b[0;34m=\u001b[0m\u001b[0;34m'Gaussian Fit over full data'\u001b[0m\u001b[0;34m)\u001b[0m\u001b[0;34m\u001b[0m\u001b[0;34m\u001b[0m\u001b[0m\n\u001b[0m\u001b[1;32m      2\u001b[0m \u001b[0mN\u001b[0m\u001b[0;34m,\u001b[0m\u001b[0mbins\u001b[0m\u001b[0;34m,\u001b[0m\u001b[0m_\u001b[0m \u001b[0;34m=\u001b[0m \u001b[0mplt\u001b[0m\u001b[0;34m.\u001b[0m\u001b[0mhist\u001b[0m\u001b[0;34m(\u001b[0m\u001b[0mdata_\u001b[0m\u001b[0;34m[\u001b[0m\u001b[0;34m'pha'\u001b[0m\u001b[0;34m]\u001b[0m\u001b[0;34m,\u001b[0m \u001b[0mbins\u001b[0m\u001b[0;34m=\u001b[0m\u001b[0mlen\u001b[0m\u001b[0;34m(\u001b[0m\u001b[0mbins\u001b[0m\u001b[0;34m)\u001b[0m\u001b[0;34m-\u001b[0m\u001b[0;36m1\u001b[0m\u001b[0;34m,\u001b[0m \u001b[0mlabel\u001b[0m\u001b[0;34m=\u001b[0m\u001b[0;34m\"Det 1,pixel =5\"\u001b[0m\u001b[0;34m)\u001b[0m\u001b[0;34m\u001b[0m\u001b[0;34m\u001b[0m\u001b[0m\n\u001b[1;32m      3\u001b[0m \u001b[0mplt\u001b[0m\u001b[0;34m.\u001b[0m\u001b[0mxlabel\u001b[0m\u001b[0;34m(\u001b[0m\u001b[0;34m\"PHA\"\u001b[0m\u001b[0;34m)\u001b[0m\u001b[0;34m\u001b[0m\u001b[0;34m\u001b[0m\u001b[0m\n\u001b[1;32m      4\u001b[0m \u001b[0mplt\u001b[0m\u001b[0;34m.\u001b[0m\u001b[0mylabel\u001b[0m\u001b[0;34m(\u001b[0m\u001b[0;34m\"Counts\"\u001b[0m\u001b[0;34m)\u001b[0m\u001b[0;34m\u001b[0m\u001b[0;34m\u001b[0m\u001b[0m\n\u001b[1;32m      5\u001b[0m \u001b[0mplt\u001b[0m\u001b[0;34m.\u001b[0m\u001b[0mlegend\u001b[0m\u001b[0;34m(\u001b[0m\u001b[0;34m)\u001b[0m\u001b[0;34m\u001b[0m\u001b[0;34m\u001b[0m\u001b[0m\n",
      "\u001b[0;31mNameError\u001b[0m: name 'fit_curve' is not defined"
     ]
    }
   ],
   "source": [
    "plt.plot(bin_centers, fit_curve, 'r-', label='Gaussian Fit over full data')\n",
    "N,bins,_ = plt.hist(data_['pha'], bins=len(bins)-1, label=\"Det 1,pixel =5\")\n",
    "plt.xlabel(\"PHA\")\n",
    "plt.ylabel(\"Counts\")\n",
    "plt.legend()\n",
    "plt.show()\n",
    "print(\"No. of bins, Mean, Deviation\")\n",
    "for p,e in zip(params, errors):\n",
    "    print(f\"{p:0.1f} +- {e:0.1f}\")\n",
    "print(\"Approximate resolution : {:0.1f}%\".format(100* 2.35 * params[2] / params[1]))"
   ]
  },
  {
   "cell_type": "markdown",
   "id": "6c8eaa4f",
   "metadata": {},
   "source": [
    "with a certain range fitting\n"
   ]
  },
  {
   "cell_type": "code",
   "execution_count": 27,
   "id": "f3b4609c",
   "metadata": {},
   "outputs": [],
   "source": [
    "# min_val_PHA  = p0[1]-2*p0[2]\n",
    "# max_val_PHA  = p0[1]+3*p0[2]\n",
    "# min_val_PHA,max_val_PHA"
   ]
  },
  {
   "cell_type": "code",
   "execution_count": 28,
   "id": "844262ac",
   "metadata": {},
   "outputs": [],
   "source": [
    "min_val_PHA = 750\n",
    "max_val_PHA = 1250"
   ]
  },
  {
   "cell_type": "code",
   "execution_count": 29,
   "id": "d387eb32",
   "metadata": {},
   "outputs": [],
   "source": [
    "fit_range = np.where((min_val_PHA <=bins[:-1]) & (max_val_PHA >= bins[1:]))[0]\n",
    "#fit_range"
   ]
  },
  {
   "cell_type": "code",
   "execution_count": 30,
   "id": "722fa9ef",
   "metadata": {},
   "outputs": [],
   "source": [
    "fit_range_final = N[fit_range]\n",
    "#fit_range_final"
   ]
  },
  {
   "cell_type": "code",
   "execution_count": 31,
   "id": "6c2b568e",
   "metadata": {},
   "outputs": [],
   "source": [
    "fit_bin_center = (bins[:-1] + bins[1:]) / 2\n",
    "#fit_bin_center"
   ]
  },
  {
   "cell_type": "code",
   "execution_count": 32,
   "id": "8d4d3073",
   "metadata": {},
   "outputs": [],
   "source": [
    "bin_center_fit_range = fit_bin_center[fit_range]\n",
    "#bin_center_fit_range"
   ]
  },
  {
   "cell_type": "code",
   "execution_count": 33,
   "id": "712800a2",
   "metadata": {},
   "outputs": [
    {
     "ename": "NameError",
     "evalue": "name 'pcov' is not defined",
     "output_type": "error",
     "traceback": [
      "\u001b[0;31m---------------------------------------------------------------------------\u001b[0m",
      "\u001b[0;31mNameError\u001b[0m                                 Traceback (most recent call last)",
      "\u001b[0;32m/tmp/ipykernel_182341/1360911556.py\u001b[0m in \u001b[0;36m<module>\u001b[0;34m\u001b[0m\n\u001b[1;32m      1\u001b[0m \u001b[0mparams1\u001b[0m\u001b[0;34m,\u001b[0m \u001b[0mpcov1\u001b[0m \u001b[0;34m=\u001b[0m \u001b[0mcurve_fit\u001b[0m\u001b[0;34m(\u001b[0m\u001b[0mgauss\u001b[0m\u001b[0;34m,\u001b[0m\u001b[0mbin_center_fit_range\u001b[0m\u001b[0;34m,\u001b[0m\u001b[0mfit_range_final\u001b[0m\u001b[0;34m,\u001b[0m\u001b[0mp0\u001b[0m\u001b[0;34m)\u001b[0m\u001b[0;34m\u001b[0m\u001b[0;34m\u001b[0m\u001b[0m\n\u001b[0;32m----> 2\u001b[0;31m \u001b[0merrors1\u001b[0m \u001b[0;34m=\u001b[0m \u001b[0mnp\u001b[0m\u001b[0;34m.\u001b[0m\u001b[0msqrt\u001b[0m\u001b[0;34m(\u001b[0m\u001b[0mnp\u001b[0m\u001b[0;34m.\u001b[0m\u001b[0mdiag\u001b[0m\u001b[0;34m(\u001b[0m\u001b[0mpcov\u001b[0m\u001b[0;34m)\u001b[0m\u001b[0;34m)\u001b[0m\u001b[0;34m\u001b[0m\u001b[0;34m\u001b[0m\u001b[0m\n\u001b[0m\u001b[1;32m      3\u001b[0m \u001b[0mparams1\u001b[0m\u001b[0;34m\u001b[0m\u001b[0;34m\u001b[0m\u001b[0m\n",
      "\u001b[0;31mNameError\u001b[0m: name 'pcov' is not defined"
     ]
    }
   ],
   "source": [
    "params1, pcov1 = curve_fit(gauss,bin_center_fit_range,fit_range_final,p0)\n",
    "errors1 = np.sqrt(np.diag(pcov))\n",
    "params1"
   ]
  },
  {
   "cell_type": "code",
   "execution_count": 34,
   "id": "f3c83b42",
   "metadata": {},
   "outputs": [],
   "source": [
    "fit_curve1 = gauss(bin_center_fit_range, *params1)"
   ]
  },
  {
   "cell_type": "code",
   "execution_count": 35,
   "id": "483f0a2a",
   "metadata": {},
   "outputs": [
    {
     "data": {
      "image/png": "[encoded data removed]",
      "text/plain": [
       "<Figure size 640x480 with 1 Axes>"
      ]
     },
     "metadata": {},
     "output_type": "display_data"
    },
    {
     "name": "stdout",
     "output_type": "stream",
     "text": [
      "No. of bins, Mean, Deviation\n"
     ]
    },
    {
     "ename": "NameError",
     "evalue": "name 'errors1' is not defined",
     "output_type": "error",
     "traceback": [
      "\u001b[0;31m---------------------------------------------------------------------------\u001b[0m",
      "\u001b[0;31mNameError\u001b[0m                                 Traceback (most recent call last)",
      "\u001b[0;32m/tmp/ipykernel_182341/3775304948.py\u001b[0m in \u001b[0;36m<module>\u001b[0;34m\u001b[0m\n\u001b[1;32m      6\u001b[0m \u001b[0mplt\u001b[0m\u001b[0;34m.\u001b[0m\u001b[0mshow\u001b[0m\u001b[0;34m(\u001b[0m\u001b[0;34m)\u001b[0m\u001b[0;34m\u001b[0m\u001b[0;34m\u001b[0m\u001b[0m\n\u001b[1;32m      7\u001b[0m \u001b[0mprint\u001b[0m\u001b[0;34m(\u001b[0m\u001b[0;34m\"No. of bins, Mean, Deviation\"\u001b[0m\u001b[0;34m)\u001b[0m\u001b[0;34m\u001b[0m\u001b[0;34m\u001b[0m\u001b[0m\n\u001b[0;32m----> 8\u001b[0;31m \u001b[0;32mfor\u001b[0m \u001b[0mp\u001b[0m\u001b[0;34m,\u001b[0m\u001b[0me\u001b[0m \u001b[0;32min\u001b[0m \u001b[0mzip\u001b[0m\u001b[0;34m(\u001b[0m\u001b[0mparams1\u001b[0m\u001b[0;34m,\u001b[0m \u001b[0merrors1\u001b[0m\u001b[0;34m)\u001b[0m\u001b[0;34m:\u001b[0m\u001b[0;34m\u001b[0m\u001b[0;34m\u001b[0m\u001b[0m\n\u001b[0m\u001b[1;32m      9\u001b[0m     \u001b[0mprint\u001b[0m\u001b[0;34m(\u001b[0m\u001b[0;34mf\"{p:0.1f} +- {e:0.1f}\"\u001b[0m\u001b[0;34m)\u001b[0m\u001b[0;34m\u001b[0m\u001b[0;34m\u001b[0m\u001b[0m\n\u001b[1;32m     10\u001b[0m \u001b[0mprint\u001b[0m\u001b[0;34m(\u001b[0m\u001b[0;34m\"Approximate resolution : {:0.1f}%\"\u001b[0m\u001b[0;34m.\u001b[0m\u001b[0mformat\u001b[0m\u001b[0;34m(\u001b[0m\u001b[0;36m100\u001b[0m\u001b[0;34m*\u001b[0m \u001b[0;36m2.35\u001b[0m \u001b[0;34m*\u001b[0m \u001b[0mparams1\u001b[0m\u001b[0;34m[\u001b[0m\u001b[0;36m2\u001b[0m\u001b[0;34m]\u001b[0m \u001b[0;34m/\u001b[0m \u001b[0mparams1\u001b[0m\u001b[0;34m[\u001b[0m\u001b[0;36m1\u001b[0m\u001b[0;34m]\u001b[0m\u001b[0;34m)\u001b[0m\u001b[0;34m)\u001b[0m\u001b[0;34m\u001b[0m\u001b[0;34m\u001b[0m\u001b[0m\n",
      "\u001b[0;31mNameError\u001b[0m: name 'errors1' is not defined"
     ]
    }
   ],
   "source": [
    "plt.bar(bin_center_fit_range,fit_range_final, alpha=0.5, label='Det 1,pixel =5  ')\n",
    "plt.plot(bin_center_fit_range, fit_curve1, 'r-', label='Gaussian Fit Sliced over Eu ')\n",
    "plt.xlabel(\"PHA\")\n",
    "plt.ylabel(\"Counts\")\n",
    "plt.legend()\n",
    "plt.show()\n",
    "print(\"No. of bins, Mean, Deviation\")\n",
    "for p,e in zip(params1, errors1):\n",
    "    print(f\"{p:0.1f} +- {e:0.1f}\")\n",
    "print(\"Approximate resolution : {:0.1f}%\".format(100* 2.35 * params1[2] / params1[1]))"
   ]
  },
  {
   "cell_type": "code",
   "execution_count": 36,
   "id": "05ca5faa",
   "metadata": {},
   "outputs": [
    {
     "ename": "NameError",
     "evalue": "name 'errors1' is not defined",
     "output_type": "error",
     "traceback": [
      "\u001b[0;31m---------------------------------------------------------------------------\u001b[0m",
      "\u001b[0;31mNameError\u001b[0m                                 Traceback (most recent call last)",
      "\u001b[0;32m/tmp/ipykernel_182341/959047182.py\u001b[0m in \u001b[0;36m<module>\u001b[0;34m\u001b[0m\n\u001b[0;32m----> 1\u001b[0;31m \u001b[0mparams1\u001b[0m\u001b[0;34m,\u001b[0m \u001b[0merrors1\u001b[0m\u001b[0;34m\u001b[0m\u001b[0;34m\u001b[0m\u001b[0m\n\u001b[0m",
      "\u001b[0;31mNameError\u001b[0m: name 'errors1' is not defined"
     ]
    }
   ],
   "source": [
    "params1, errors1"
   ]
  },
  {
   "cell_type": "code",
   "execution_count": null,
   "id": "7ec78513",
   "metadata": {},
   "outputs": [],
   "source": []
  },
  {
   "cell_type": "code",
   "execution_count": null,
   "id": "64fa1a33",
   "metadata": {},
   "outputs": [],
   "source": []
  }
 ],
 "metadata": {
  "kernelspec": {
   "display_name": "Python 3 (ipykernel)",
   "language": "python",
   "name": "python3"
  },
  "language_info": {
   "codemirror_mode": {
    "name": "ipython",
    "version": 3
   },
   "file_extension": ".py",
   "mimetype": "text/x-python",
   "name": "python",
   "nbconvert_exporter": "python",
   "pygments_lexer": "ipython3",
   "version": "3.9.13"
  }
 },
 "nbformat": 4,
 "nbformat_minor": 5
}

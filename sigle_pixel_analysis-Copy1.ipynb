{
 "cells": [
  {
   "cell_type": "code",
   "execution_count": 1,
   "id": "7c0ae6af",
   "metadata": {},
   "outputs": [],
   "source": [
    "from astropy.io import fits\n",
    "import numpy as np\n",
    "import astropy\n",
    "from astropy.table import Table\n",
    "import matplotlib.pyplot as plt"
   ]
  },
  {
   "cell_type": "code",
   "execution_count": 2,
   "id": "2faebad0",
   "metadata": {},
   "outputs": [],
   "source": [
    "path = '/home/suman/tifr/'\n",
    "file = path + '202307011_1506_Am241_on_det1_30000pkts.fits'\n",
    "\n",
    "hdul = fits.open(file)[1]"
   ]
  },
  {
   "cell_type": "code",
   "execution_count": 3,
   "id": "ce636983",
   "metadata": {},
   "outputs": [
    {
     "data": {
      "text/html": [
       "<div><i>Table length=3842560</i>\n",
       "<table id=\"table139896128880256\" class=\"table-striped table-bordered table-condensed\">\n",
       "<thead><tr><th>time</th><th>detid</th><th>pixid</th><th>pha</th></tr></thead>\n",
       "<thead><tr><th>uint32</th><th>int16</th><th>int16</th><th>int16</th></tr></thead>\n",
       "<tr><td>0</td><td>0</td><td>0</td><td>0</td></tr>\n",
       "<tr><td>0</td><td>0</td><td>0</td><td>0</td></tr>\n",
       "<tr><td>0</td><td>0</td><td>0</td><td>0</td></tr>\n",
       "<tr><td>0</td><td>0</td><td>0</td><td>0</td></tr>\n",
       "<tr><td>0</td><td>0</td><td>0</td><td>0</td></tr>\n",
       "<tr><td>0</td><td>0</td><td>0</td><td>0</td></tr>\n",
       "<tr><td>...</td><td>...</td><td>...</td><td>...</td></tr>\n",
       "<tr><td>729060084</td><td>1</td><td>181</td><td>599</td></tr>\n",
       "<tr><td>729060133</td><td>1</td><td>0</td><td>346</td></tr>\n",
       "<tr><td>729060432</td><td>1</td><td>172</td><td>1040</td></tr>\n",
       "<tr><td>729061179</td><td>1</td><td>123</td><td>1010</td></tr>\n",
       "<tr><td>729061262</td><td>1</td><td>165</td><td>373</td></tr>\n",
       "<tr><td>729061679</td><td>1</td><td>101</td><td>666</td></tr>\n",
       "<tr><td>729062736</td><td>1</td><td>154</td><td>985</td></tr>\n",
       "</table></div>"
      ],
      "text/plain": [
       "<Table length=3842560>\n",
       "   time   detid pixid  pha \n",
       "  uint32  int16 int16 int16\n",
       "--------- ----- ----- -----\n",
       "        0     0     0     0\n",
       "        0     0     0     0\n",
       "        0     0     0     0\n",
       "        0     0     0     0\n",
       "        0     0     0     0\n",
       "        0     0     0     0\n",
       "      ...   ...   ...   ...\n",
       "729060084     1   181   599\n",
       "729060133     1     0   346\n",
       "729060432     1   172  1040\n",
       "729061179     1   123  1010\n",
       "729061262     1   165   373\n",
       "729061679     1   101   666\n",
       "729062736     1   154   985"
      ]
     },
     "execution_count": 3,
     "metadata": {},
     "output_type": "execute_result"
    }
   ],
   "source": [
    "data = hdul.data\n",
    "tab = Table(data)\n",
    "tab"
   ]
  },
  {
   "cell_type": "code",
   "execution_count": 4,
   "id": "2484ebc7",
   "metadata": {},
   "outputs": [
    {
     "data": {
      "text/plain": [
       "array([  0,   0,   0, ..., 165, 101, 154], dtype=int16)"
      ]
     },
     "execution_count": 4,
     "metadata": {},
     "output_type": "execute_result"
    }
   ],
   "source": [
    "data['pixid']"
   ]
  },
  {
   "cell_type": "code",
   "execution_count": 5,
   "id": "1132246b",
   "metadata": {},
   "outputs": [
    {
     "data": {
      "text/plain": [
       "array([0, 0, 0, ..., 1, 1, 1], dtype=int16)"
      ]
     },
     "execution_count": 5,
     "metadata": {},
     "output_type": "execute_result"
    }
   ],
   "source": [
    "data['detid']"
   ]
  },
  {
   "cell_type": "code",
   "execution_count": 6,
   "id": "09d04a84",
   "metadata": {},
   "outputs": [],
   "source": [
    "#mask = 0 < np.any(data['pixid']) < 3"
   ]
  },
  {
   "cell_type": "code",
   "execution_count": 7,
   "id": "49715b39",
   "metadata": {},
   "outputs": [],
   "source": [
    "#plt.plot(data[\"pixid\"][mask],data[\"pha\"][mask])"
   ]
  },
  {
   "cell_type": "code",
   "execution_count": 122,
   "id": "1a654e47",
   "metadata": {},
   "outputs": [
    {
     "data": {
      "text/plain": [
       "FITS_rec([( 3914655201, 1, 75,  882), ( 3914659170, 1, 75,  613),\n",
       "          ( 3914695797, 1, 75, 1067), ..., (  728934381, 1, 75,  830),\n",
       "          (  728950379, 1, 75,  868), (  728969393, 1, 75,  383)],\n",
       "         dtype=(numpy.record, [('time', '>i4'), ('detid', '>i2'), ('pixid', '>i2'), ('pha', '>i2')]))"
      ]
     },
     "execution_count": 122,
     "metadata": {},
     "output_type": "execute_result"
    }
   ],
   "source": [
    "detid = data[data['detid']== 1]\n",
    "data_ = detid[detid['pixid'] == 75]\n",
    "#data_ = detid\n",
    "np.shape(data_)\n",
    "data_\n"
   ]
  },
  {
   "cell_type": "code",
   "execution_count": 123,
   "id": "fb6ffd3f",
   "metadata": {},
   "outputs": [],
   "source": [
    "tab = Table(data)\n",
    "#tab"
   ]
  },
  {
   "cell_type": "code",
   "execution_count": 124,
   "id": "c4bbce49",
   "metadata": {},
   "outputs": [
    {
     "data": {
      "text/html": [
       "<div><i>Table length=13428</i>\n",
       "<table id=\"table139896029472224\" class=\"table-striped table-bordered table-condensed\">\n",
       "<thead><tr><th>time</th><th>detid</th><th>pixid</th><th>pha</th></tr></thead>\n",
       "<thead><tr><th>uint32</th><th>int16</th><th>int16</th><th>int16</th></tr></thead>\n",
       "<tr><td>3914655201</td><td>1</td><td>75</td><td>882</td></tr>\n",
       "<tr><td>3914659170</td><td>1</td><td>75</td><td>613</td></tr>\n",
       "<tr><td>3914695797</td><td>1</td><td>75</td><td>1067</td></tr>\n",
       "<tr><td>3914813338</td><td>1</td><td>75</td><td>989</td></tr>\n",
       "<tr><td>3914826928</td><td>1</td><td>75</td><td>653</td></tr>\n",
       "<tr><td>3914976705</td><td>1</td><td>75</td><td>1099</td></tr>\n",
       "<tr><td>...</td><td>...</td><td>...</td><td>...</td></tr>\n",
       "<tr><td>728422120</td><td>1</td><td>75</td><td>1012</td></tr>\n",
       "<tr><td>728510863</td><td>1</td><td>75</td><td>938</td></tr>\n",
       "<tr><td>728688807</td><td>1</td><td>75</td><td>965</td></tr>\n",
       "<tr><td>728888675</td><td>1</td><td>75</td><td>888</td></tr>\n",
       "<tr><td>728934381</td><td>1</td><td>75</td><td>830</td></tr>\n",
       "<tr><td>728950379</td><td>1</td><td>75</td><td>868</td></tr>\n",
       "<tr><td>728969393</td><td>1</td><td>75</td><td>383</td></tr>\n",
       "</table></div>"
      ],
      "text/plain": [
       "<Table length=13428>\n",
       "   time    detid pixid  pha \n",
       "  uint32   int16 int16 int16\n",
       "---------- ----- ----- -----\n",
       "3914655201     1    75   882\n",
       "3914659170     1    75   613\n",
       "3914695797     1    75  1067\n",
       "3914813338     1    75   989\n",
       "3914826928     1    75   653\n",
       "3914976705     1    75  1099\n",
       "       ...   ...   ...   ...\n",
       " 728422120     1    75  1012\n",
       " 728510863     1    75   938\n",
       " 728688807     1    75   965\n",
       " 728888675     1    75   888\n",
       " 728934381     1    75   830\n",
       " 728950379     1    75   868\n",
       " 728969393     1    75   383"
      ]
     },
     "execution_count": 124,
     "metadata": {},
     "output_type": "execute_result"
    }
   ],
   "source": [
    "tab_ = Table(data_)\n",
    "tab_"
   ]
  },
  {
   "cell_type": "code",
   "execution_count": 125,
   "id": "c6716cb9",
   "metadata": {},
   "outputs": [
    {
     "data": {
      "text/plain": [
       "13428"
      ]
     },
     "execution_count": 125,
     "metadata": {},
     "output_type": "execute_result"
    }
   ],
   "source": [
    "len(np.unique(data_['time']))"
   ]
  },
  {
   "cell_type": "code",
   "execution_count": 126,
   "id": "79022234",
   "metadata": {},
   "outputs": [],
   "source": [
    "import matplotlib.pyplot as plt"
   ]
  },
  {
   "cell_type": "code",
   "execution_count": 127,
   "id": "ae267038",
   "metadata": {},
   "outputs": [],
   "source": [
    "data_['pha'] = data_['pha']"
   ]
  },
  {
   "cell_type": "code",
   "execution_count": 128,
   "id": "e6192bc7",
   "metadata": {},
   "outputs": [
    {
     "data": {
      "image/png": "[encoded data removed]",
      "text/plain": [
       "<Figure size 640x480 with 1 Axes>"
      ]
     },
     "metadata": {},
     "output_type": "display_data"
    }
   ],
   "source": [
    "plt.plot((data_['time']),(data_['pha']),\".\")\n",
    "plt.xlabel(\"Aqusiton time\")\n",
    "plt.ylabel(\"Energy\")\n",
    "plt.xscale(\"log\")\n",
    "plt.yscale(\"log\")\n",
    "#plt.xlim(0, 100000000)"
   ]
  },
  {
   "cell_type": "code",
   "execution_count": 129,
   "id": "5b626fff",
   "metadata": {},
   "outputs": [
    {
     "data": {
      "text/plain": [
       "Text(0, 0.5, 'No. of Counts')"
      ]
     },
     "execution_count": 129,
     "metadata": {},
     "output_type": "execute_result"
    },
    {
     "data": {
      "image/png": "[encoded data removed]",
      "text/plain": [
       "<Figure size 640x480 with 1 Axes>"
      ]
     },
     "metadata": {},
     "output_type": "display_data"
    }
   ],
   "source": [
    "# %matplotlib notebook\n",
    "N,bins,_ = plt.hist(data_['pha'], bins=750)\n",
    "plt.xlabel(\"PHA\")\n",
    "plt.ylabel(\"No. of Counts\")\n",
    "# plt.ylim(0,100)\n",
    "# plt.show()"
   ]
  },
  {
   "cell_type": "code",
   "execution_count": 130,
   "id": "67751601",
   "metadata": {},
   "outputs": [
    {
     "data": {
      "text/plain": [
       "750"
      ]
     },
     "execution_count": 130,
     "metadata": {},
     "output_type": "execute_result"
    }
   ],
   "source": [
    "len(N)"
   ]
  },
  {
   "cell_type": "code",
   "execution_count": 131,
   "id": "bf908099",
   "metadata": {},
   "outputs": [],
   "source": [
    "bin_centers = (bins[:-1] + bins[1:]) / 2"
   ]
  },
  {
   "cell_type": "code",
   "execution_count": 132,
   "id": "07fdebd4",
   "metadata": {},
   "outputs": [],
   "source": [
    "def gauss(x,amp,mean,stdev):\n",
    "    return amp*np.exp(-(x-mean)**2/(2*stdev**2))"
   ]
  },
  {
   "cell_type": "code",
   "execution_count": 133,
   "id": "73624f81",
   "metadata": {},
   "outputs": [
    {
     "data": {
      "text/plain": [
       "6.107321563648419e-166"
      ]
     },
     "execution_count": 133,
     "metadata": {},
     "output_type": "execute_result"
    }
   ],
   "source": [
    "gauss(1,10,9.3,0.3)"
   ]
  },
  {
   "cell_type": "code",
   "execution_count": 134,
   "id": "a189f59c",
   "metadata": {},
   "outputs": [],
   "source": [
    "p0 = [np.max(N),np.mean(data_['pha']),np.std(data_['pha'])]"
   ]
  },
  {
   "cell_type": "code",
   "execution_count": 135,
   "id": "8af79ad0",
   "metadata": {},
   "outputs": [
    {
     "data": {
      "text/plain": [
       "[355.0, 906.3034703604409, 213.5569504189879]"
      ]
     },
     "execution_count": 135,
     "metadata": {},
     "output_type": "execute_result"
    }
   ],
   "source": [
    "p0"
   ]
  },
  {
   "cell_type": "code",
   "execution_count": 136,
   "id": "adcd49b5",
   "metadata": {},
   "outputs": [],
   "source": [
    "from scipy.optimize import curve_fit"
   ]
  },
  {
   "cell_type": "code",
   "execution_count": 137,
   "id": "8e4ec2d7",
   "metadata": {},
   "outputs": [],
   "source": [
    "params, pcov = curve_fit(gauss,bin_centers,N,p0)\n",
    "errors = np.sqrt(np.diag(pcov))"
   ]
  },
  {
   "cell_type": "code",
   "execution_count": 138,
   "id": "4de95ad0",
   "metadata": {},
   "outputs": [
    {
     "name": "stdout",
     "output_type": "stream",
     "text": [
      "Fit results\n",
      "292.5 +- 4.0\n",
      "1023.7 +- 1.0\n",
      "63.6 +- 1.0\n",
      "Approximate resolution : 14.6%\n"
     ]
    }
   ],
   "source": [
    "print(\"Fit results\")\n",
    "for p,e in zip(params, errors):\n",
    "    print(f\"{p:0.1f} +- {e:0.1f}\")\n",
    "print(\"Approximate resolution : {:0.1f}%\".format(100* 2.35 * params[2] / params[1]))"
   ]
  },
  {
   "cell_type": "code",
   "execution_count": 139,
   "id": "4f8a1cad",
   "metadata": {},
   "outputs": [],
   "source": [
    "fit_curve = gauss(bin_centers,*params)"
   ]
  },
  {
   "cell_type": "code",
   "execution_count": 142,
   "id": "a3cd8ba9",
   "metadata": {},
   "outputs": [
    {
     "data": {
      "image/png": "[encoded data removed]",
      "text/plain": [
       "<Figure size 640x480 with 1 Axes>"
      ]
     },
     "metadata": {},
     "output_type": "display_data"
    }
   ],
   "source": [
    "plt.plot(bin_centers, fit_curve, 'k-', label='Gaussian Fit \\n R = 14.6%')\n",
    "N,bins,_ = plt.hist(data_['pha'], bins=750)\n",
    "plt.title(\"'Am-241 spectra with single pixel'\")\n",
    "plt.xlabel(\"'PHA'\")\n",
    "plt.legend()\n",
    "plt.ylabel(\"'No. of Counts'\")\n",
    "plt.xlim(0,2500)\n",
    "#plt.grid()\n",
    "plt.show()"
   ]
  },
  {
   "cell_type": "markdown",
   "id": "cbc131db",
   "metadata": {},
   "source": [
    "\n",
    "k = params[1]\n",
    "k"
   ]
  },
  {
   "cell_type": "code",
   "execution_count": 64,
   "id": "5d56fa0c",
   "metadata": {},
   "outputs": [
    {
     "data": {
      "text/plain": [
       "1031.861328963898"
      ]
     },
     "execution_count": 64,
     "metadata": {},
     "output_type": "execute_result"
    }
   ],
   "source": [
    "59*(1- 2.35 * params[2] / params[1])*4096/200"
   ]
  },
  {
   "cell_type": "code",
   "execution_count": null,
   "id": "728bdbe3",
   "metadata": {},
   "outputs": [],
   "source": []
  }
 ],
 "metadata": {
  "kernelspec": {
   "display_name": "Python 3 (ipykernel)",
   "language": "python",
   "name": "python3"
  },
  "language_info": {
   "codemirror_mode": {
    "name": "ipython",
    "version": 3
   },
   "file_extension": ".py",
   "mimetype": "text/x-python",
   "name": "python",
   "nbconvert_exporter": "python",
   "pygments_lexer": "ipython3",
   "version": "3.9.13"
  }
 },
 "nbformat": 4,
 "nbformat_minor": 5
}

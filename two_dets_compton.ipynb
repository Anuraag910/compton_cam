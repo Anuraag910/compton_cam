{
 "cells": [
  {
   "cell_type": "code",
   "execution_count": 1,
   "id": "88a0bebc",
   "metadata": {},
   "outputs": [],
   "source": [
    "import os, warnings\n",
    "from pynq import PL, Overlay\n",
    "from pynq import allocate\n",
    "import numpy as np\n",
    "from time import sleep\n",
    "from pynq import DefaultIP\n",
    "import logging\n",
    "\n",
    "log = logging.getLogger(\"CZT_Driver\")\n",
    "_command_valids = [0xE0,0xE1,0xE2,0xE3,0xE4,0xE5,0xE6,0xE7,0xE8,0xE9,0x9D,0x9E,0x86,0xA3,0x96,0x9A,0x02,0x85,0x05,0x8C,0x21,0xA1,0x1F,0x9F,0x20,0xA0,0x81,0x01,0x32,0xB2,0x34,0xB4,0x07,0x87,0x0B,0x8B,0x03,0x83,0x84,0x04,0xCB,0x10,0x90,0x48,0xC8,0x4A,0xCA]\n",
    "_command_has_reply = [0xE0,0x9D,0x9E,0x86,0xA3,0x96,0x9A,0xA1,0x9F,0xA0,0xB2,0xB4,0x87,0x8B,0xC8,0x83,0x84,0xCB]\n",
    "_command_has_data = [0x21,0x1F,0x20,0x32,0x07,0x0B,0x48,0x03,0x04]\n",
    "_command_map = {\"READ_PART_BASE\": 0xE0,\n",
    "                    \"READ_SERIAL_LSB\": 0x9D,\n",
    "                    \"READ_SERIAL_MSB\": 0x9E,\n",
    "                    \"READ_FIRMWARE_VERSION\": 0x86,\n",
    "                    \"READ_MODULE_VERSION\": 0xA3,\n",
    "                    \"READ_STATUS\": 0x96,\n",
    "                    \"READ_TEMPERATURE\": 0x9A,\n",
    "                    \"BREAK\": 0x02,\n",
    "                    \"EVENT_ON\": 0x85,\n",
    "                    \"EVENT_OFF\": 0x05,\n",
    "                    \"FIFO_CLEAR\": 0x8C,\n",
    "                    \"SET_THRESHOLD\": 0x21,\n",
    "                    \"GET_THRESHOLD\": 0xA1,\n",
    "                    \"SET_GPIO\": 0x1F,\n",
    "                    \"GET_GPIO\": 0x9F,\n",
    "                    \"SET_CLOCK\": 0x20,\n",
    "                    \"GET_CLOCK\": 0xA0,\n",
    "                    \"RESTORE_SETUP\": 0x81,\n",
    "                    \"UPDATE_SETUP\": 0x01,\n",
    "                    \"SET_PEAKING_TIME\": 0x32,\n",
    "                    \"GET_PEAKING_TIME\": 0xB2,\n",
    "                    \"RUN_SELF_TEST\": 0x34,\n",
    "                    \"GET_SELF_TEST_RESULTS\": 0xB4,\n",
    "                    \"SET_CHANNEL\": 0x07,\n",
    "                    \"GET_CHANNEL\": 0x87,\n",
    "                    \"CHANNEL_CONTROL\": 0x0B,\n",
    "                    \"CHANNEL_STATUS\": 0x8B,\n",
    "                    \"SET_ADDR_POINTER\": 0x03,\n",
    "                    \"GET_ADDR_POINTER\": 0x83,\n",
    "                    \"READ_RAM\": 0x84,\n",
    "                    \"WRITE_RAM\": 0x04,\n",
    "                    \"EEPROM_CHECKSUM\": 0xCB,\n",
    "                    \"HOLD_ON\": 0x10,\n",
    "                    \"HOLD_OFF\": 0x90,\n",
    "                    \"SET_EMULATOR\": 0x48,\n",
    "                    \"GET_EMULATOR\": 0xC8,\n",
    "                    \"WRITE_PROTECT_OFF\": 0x4A,\n",
    "                    \"WRITE_PROTECT_ON\": 0xCA\n",
    "                   }\n",
    "    \n",
    "class CZTDriver(DefaultIP):\n",
    "    \"\"\"Class for interacting with the AXI CZT Controller version 1.\n",
    "    \n",
    "    Revision: 1.0.24\n",
    "    \n",
    "    This class provides driver support for \"user.org:user:AXI_CZT_Controller:1.0\".\n",
    "    \n",
    "    The driver has various functions and properties to abstract away the\n",
    "    funtionality of the register as well as providing translation between\n",
    "    command names and actual command op codes.\n",
    "    \n",
    "    The driver also wraps an MMIO device for direct access to the underlying\n",
    "    registers with \"read(addr)\" and \"write(addr,data)\" functions.\n",
    "    \"\"\"\n",
    "\n",
    "    def __init__(self, description):\n",
    "        super().__init__(description=description)\n",
    "        self.is_channel_disabled = [0]*256\n",
    "        self.disabled_channel_list = []\n",
    "        self.num_disabled = 0\n",
    "    \n",
    "    bindto = ['user.org:user:AXI_CZT_Controller:1.0']\n",
    "    \n",
    "    def command(self, com, inp = None, timeout = 5000):\n",
    "        # Bring down command valid in anticipation of new command\n",
    "        self.write(0x0,0x0000)\n",
    "        \n",
    "        # Check if command is valid\n",
    "        if type(com) is str:\n",
    "            if com in _command_map:\n",
    "                com = _command_map[com]\n",
    "            else:\n",
    "                raise ValueError(\"Invalid Command String\")\n",
    "        if com not in _command_valids:\n",
    "            raise ValueError(\"Invalid Command Number\")\n",
    "        \n",
    "        # If command needs to send data then,\n",
    "        #   verify data input is given\n",
    "        #   send the command along with data and block for acknoledgement\n",
    "        if (com in _command_has_data):\n",
    "            if (inp == None):\n",
    "                raise ValueError(f\"Input needed for 0x{com:02x}\")\n",
    "            else:\n",
    "                # Implement command with data\n",
    "                packed_command = com | 1<<8 | inp<<16\n",
    "                self.write(0x0, packed_command)\n",
    "                rd = self.read(0x4)\n",
    "                while((not(rd and 0x1)) and timeout!=0):\n",
    "                    rd = self.read(0x4)\n",
    "                    timeout -= 1\n",
    "                if timeout == 0:\n",
    "                    return -1\n",
    "                return None\n",
    "        \n",
    "        # If command does not have data then just send the command\n",
    "        packed_command = com | 1<<8 | 0xffff0000\n",
    "        self.write(0x00, packed_command)\n",
    "        \n",
    "        # Wait for acknoledgement of successful command transmission\n",
    "        rd = self.read(0x04)\n",
    "        while((not(rd and 0x0001)) and timeout!=0):\n",
    "            rd = self.read(0x04)\n",
    "            timeout -= 1\n",
    "        if timeout == 0:\n",
    "            return -1\n",
    "        \n",
    "        # If command has reply additionally wait for data acknoledgement\n",
    "        if (com in _command_has_reply):\n",
    "            while((not(rd and 0x100)) and timeout!=0):\n",
    "                rd = self.read(0x4)\n",
    "                timeout -= 1\n",
    "            if timeout == 0:\n",
    "                return -1\n",
    "            return (rd>>16)&0xffff\n",
    "        else:\n",
    "            return None\n",
    "        \n",
    "    def read_serial(self):\n",
    "        msb = self.command(\"READ_SERIAL_MSB\")\n",
    "        lsb = self.command(\"READ_SERIAL_LSB\")\n",
    "        if (msb==-1) or (lsb==-1):\n",
    "            return -1\n",
    "        return (msb<<16|lsb)\n",
    "    \n",
    "    def read_channel_status(self, channel):\n",
    "        if channel > 255:\n",
    "            raise ValueError(\"Channel should be between 0 and 255\")\n",
    "        err = self.command(\"SET_CHANNEL\", channel)\n",
    "        if err == -1:\n",
    "            return -1\n",
    "        return self.command(\"CHANNEL_STATUS\")\n",
    "    \n",
    "    def disable_channel(self, channel):\n",
    "        if channel > 255:\n",
    "            raise ValueError(\"Channel should be between 0 and 255\")\n",
    "        err = self.command(\"SET_CHANNEL\", channel)\n",
    "        if err == -1:\n",
    "            return -1\n",
    "        err = self.command(\"CHANNEL_CONTROL\", 1)\n",
    "        if err == -1:\n",
    "            return -1\n",
    "\n",
    "    def enable_channel(self, channel):\n",
    "        if channel > 255:\n",
    "            raise ValueError(\"Channel should be between 0 and 255\")\n",
    "        err = self.command(\"SET_CHANNEL\", channel)\n",
    "        if err == -1:\n",
    "            return -1\n",
    "        err = self.command(\"CHANNEL_CONTROL\", 0)\n",
    "        if err == -1:\n",
    "            return -1\n",
    "\n",
    "    def scan_all_channels(self):\n",
    "        self.disabled_channel_list = []\n",
    "        self.num_disabled = 0\n",
    "        for i in range(256):\n",
    "            self.is_channel_disabled[i] = self.read_channel_status(i)\n",
    "            if(self.is_channel_disabled[i]==1):\n",
    "                self.disabled_channel_list.append(i)\n",
    "                self.num_disabled += 1\n",
    "    \n",
    "    def set_clock(self, clk):\n",
    "        clk = int(clk/5)\n",
    "        return self.command(\"SET_CLOCK\", clk)\n",
    "    \n",
    "    def get_clock(self):\n",
    "        clk = self.command(\"GET_CLOCK\")\n",
    "        if clk == -1:\n",
    "            return -1\n",
    "        else:\n",
    "            return clk*5\n",
    "        \n",
    "    def set_threshold(self, threshold):\n",
    "        threshold = int(threshold*1023.0/200.0)\n",
    "        return self.command(\"SET_THRESHOLD\", threshold)\n",
    "    \n",
    "    def get_threshold(self):\n",
    "        threshold = self.command(\"GET_THRESHOLD\")\n",
    "        if threshold == -1:\n",
    "            return -1\n",
    "        else:\n",
    "            return threshold*200.0/1023.0\n",
    "    \n",
    "    def get_temperature(self):\n",
    "        temperature = self.command(\"GET_TEMPERATURE\")\n",
    "        if temperature == -1:\n",
    "            return -1\n",
    "        else:\n",
    "            return temperature\n",
    "        \n",
    "\n",
    "def parse_event_data(event_data):\n",
    "    parsed_event_data = []\n",
    "    for event in event_data:\n",
    "        timestamp = (event & 0xffffffff00000000) >> 32\n",
    "        det_id = (event & 0x00000000ff000000) >> 24\n",
    "        pix_id = (event & 0x0000000000ff0000) >> 16\n",
    "        energy = (event & 0x000000000000ffff) >> 0\n",
    "        parsed_event_data.append((timestamp, det_id, pix_id, energy))\n",
    "    return parsed_event_data\n"
   ]
  },
  {
   "cell_type": "code",
   "execution_count": 2,
   "id": "6b77dcea",
   "metadata": {},
   "outputs": [
    {
     "data": {
      "application/javascript": [
       "\n",
       "try {\n",
       "require(['notebook/js/codecell'], function(codecell) {\n",
       "  codecell.CodeCell.options_default.highlight_modes[\n",
       "      'magic_text/x-csrc'] = {'reg':[/^%%microblaze/]};\n",
       "  Jupyter.notebook.events.one('kernel_ready.Kernel', function(){\n",
       "      Jupyter.notebook.get_cells().map(function(cell){\n",
       "          if (cell.cell_type == 'code'){ cell.auto_highlight(); } }) ;\n",
       "  });\n",
       "});\n",
       "} catch (e) {};\n"
      ]
     },
     "metadata": {},
     "output_type": "display_data"
    },
    {
     "data": {
      "application/javascript": [
       "\n",
       "try {\n",
       "require(['notebook/js/codecell'], function(codecell) {\n",
       "  codecell.CodeCell.options_default.highlight_modes[\n",
       "      'magic_text/x-csrc'] = {'reg':[/^%%pybind11/]};\n",
       "  Jupyter.notebook.events.one('kernel_ready.Kernel', function(){\n",
       "      Jupyter.notebook.get_cells().map(function(cell){\n",
       "          if (cell.cell_type == 'code'){ cell.auto_highlight(); } }) ;\n",
       "  });\n",
       "});\n",
       "} catch (e) {};\n"
      ]
     },
     "metadata": {},
     "output_type": "display_data"
    }
   ],
   "source": [
    "ov = Overlay(\"./overlays/test_2det_commanding.bit\")\n",
    "czt1 = ov.AXI_CZT_AXIS_0.AXI_CZT_Controller\n",
    "czt0 = ov.AXI_CZT_AXIS_1.AXI_CZT_Controller\n",
    "reset_pl = ov.Reset_system.reset_gpio.channel1[0].on\n",
    "dma_channel = ov.DMA.axi_dma_0.recvchannel\n",
    "wr_data_count = ov.AXIS_Combine.axi_gpio_0.channel1.read\n",
    "rd_data_count = ov.AXIS_Combine.axi_gpio_0.channel2.read"
   ]
  },
  {
   "cell_type": "code",
   "execution_count": 3,
   "id": "3324b392",
   "metadata": {},
   "outputs": [
    {
     "name": "stdout",
     "output_type": "stream",
     "text": [
      "21122 21065\n"
     ]
    }
   ],
   "source": [
    "reset_pl()\n",
    "print(czt0.read_serial(), czt1.read_serial()) "
   ]
  },
  {
   "cell_type": "code",
   "execution_count": 40,
   "id": "f56e809e",
   "metadata": {},
   "outputs": [
    {
     "data": {
      "text/plain": [
       "-1"
      ]
     },
     "execution_count": 40,
     "metadata": {},
     "output_type": "execute_result"
    }
   ],
   "source": [
    "czt1.command(\"BREAK\")\n",
    "czt0.command(\"BREAK\")"
   ]
  },
  {
   "cell_type": "code",
   "execution_count": 19,
   "id": "e92f320c",
   "metadata": {},
   "outputs": [],
   "source": [
    "czt1.scan_all_channels()"
   ]
  },
  {
   "cell_type": "code",
   "execution_count": 87,
   "id": "bc6b163e",
   "metadata": {},
   "outputs": [
    {
     "name": "stdout",
     "output_type": "stream",
     "text": [
      "29 [0, 1, 2, 3, 4, 5, 6, 7, 8, 9, 10, 11, 12, 13, 14, 15, 16, 31, 95, 104, 111, 132, 144, 151, 194, 240, 247, 254, 255]\n"
     ]
    }
   ],
   "source": [
    "print(czt1.num_disabled, czt1.disabled_channel_list)"
   ]
  },
  {
   "cell_type": "code",
   "execution_count": 85,
   "id": "9e1ba066",
   "metadata": {},
   "outputs": [],
   "source": [
    "czt1.disable_channel(132)"
   ]
  },
  {
   "cell_type": "code",
   "execution_count": 4,
   "id": "31e36b64",
   "metadata": {},
   "outputs": [
    {
     "name": "stdout",
     "output_type": "stream",
     "text": [
      "Command                    CZT 0  CZT 1\n",
      "READ_SERIAL_LSB..........  21122  21065\n",
      "READ_SERIAL_MSB..........      0      0\n",
      "READ_FIRMWARE_VERSION....      6      6\n",
      "READ_MODULE_VERSION......     99     99\n",
      "EEPROM_CHECKSUM..........    184    159\n",
      "GET_CLOCK................     15      2\n",
      "GET_EMULATOR.............   1030   1024\n",
      "GET_GPIO.................      7      0\n",
      "GET_PEAKING_TIME.........      5      5\n",
      "GET_THRESHOLD............    204    102\n",
      "READ_STATUS..............   1030   1024\n",
      "READ_TEMPERATURE.........   1030   1024\n"
     ]
    }
   ],
   "source": [
    "reset_pl()\n",
    "test_reply_commands = ['READ_SERIAL_LSB',\n",
    "             'READ_SERIAL_MSB',\n",
    "             'READ_FIRMWARE_VERSION',\n",
    "             'READ_MODULE_VERSION',\n",
    "             'EEPROM_CHECKSUM',\n",
    "             'GET_CLOCK',\n",
    "             'GET_EMULATOR',\n",
    "             'GET_GPIO',\n",
    "             'GET_PEAKING_TIME',\n",
    "             'GET_THRESHOLD',\n",
    "             'READ_STATUS',\n",
    "             'READ_TEMPERATURE']\n",
    "print(\"Command                    CZT 0  CZT 1\")\n",
    "for comm in test_reply_commands:\n",
    "    print(f\"{comm:.<25}{czt0.command(comm):>7}{czt1.command(comm):>7}\")"
   ]
  },
  {
   "cell_type": "code",
   "execution_count": 5,
   "id": "aacb2f47",
   "metadata": {},
   "outputs": [],
   "source": [
    "import pandas as pd\n",
    "import numpy as np\n",
    "import matplotlib.pyplot as plt\n",
    "import seaborn as sns\n",
    "%matplotlib inline"
   ]
  },
  {
   "cell_type": "code",
   "execution_count": 8,
   "id": "6fd375e4",
   "metadata": {},
   "outputs": [
    {
     "name": "stdout",
     "output_type": "stream",
     "text": [
      "True\n",
      "415 417\n"
     ]
    }
   ],
   "source": [
    "dma_channel.start()\n",
    "dma_channel.transfer(event_data_buffer)\n",
    "czt1.command(\"EVENT_ON\")\n",
    "czt0.command(\"EVENT_ON\")\n",
    "print(dma_channel.idle)\n",
    "print(wr_data_count(), rd_data_count())\n",
    "\n",
    "czt0.command(\"EVENT_OFF\")\n",
    "czt1.command(\"EVENT_OFF\")"
   ]
  },
  {
   "cell_type": "markdown",
   "id": "c3611c87",
   "metadata": {},
   "source": [
    "## Take simultaneous data for STC 2 boards\n",
    "FYI, One packet is 128 events."
   ]
  },
  {
   "cell_type": "code",
   "execution_count": 6,
   "id": "37399ad4",
   "metadata": {},
   "outputs": [],
   "source": [
    "event_data_buffer = allocate(shape=(128,), dtype=np.uint64)\n",
    "main_buffer = []"
   ]
  },
  {
   "cell_type": "code",
   "execution_count": 7,
   "id": "4811b3d6",
   "metadata": {},
   "outputs": [
    {
     "name": "stdout",
     "output_type": "stream",
     "text": [
      "0\n"
     ]
    }
   ],
   "source": [
    "print(len(main_buffer))\n",
    "total_events=len(main_buffer)"
   ]
  },
  {
   "cell_type": "markdown",
   "id": "7eae46ed",
   "metadata": {},
   "source": [
    "## Do a Continuous acquisition from two detectors at once into the FPGA's DMA buffer\n",
    "\n",
    "Make sure that the HV is turned ON before you run this cell."
   ]
  },
  {
   "cell_type": "code",
   "execution_count": 9,
   "id": "3043a549",
   "metadata": {},
   "outputs": [],
   "source": [
    "npackets = 1 \n",
    "dma_channel.start()\n",
    "czt0.command(\"EVENT_ON\")\n",
    "czt1.command(\"EVENT_ON\")\n",
    "\n",
    "for i in range(npackets):\n",
    "    dma_channel.wait()\n",
    "    main_buffer.extend(event_data_buffer.tolist())\n",
    "    dma_channel.transfer(event_data_buffer)\n",
    "\n",
    "czt1.command(\"EVENT_OFF\")\n",
    "czt0.command(\"EVENT_OFF\")"
   ]
  },
  {
   "cell_type": "markdown",
   "id": "43891a04",
   "metadata": {},
   "source": [
    "## Get 1000 Compton counts according to the geometry and the detector background rates' carefully estimated chance coincidence probabilities.\n",
    "1) Chance coincidence probabilities is calculated assuming the background is uniform in time and binning is done according to 7.5us.\n",
    "\n",
    "2) Compton counts probabilities is harder to estimate, we avoid the energy uncertainities and a small fraction of double events happening for two detectors."
   ]
  },
  {
   "cell_type": "code",
   "execution_count": 10,
   "id": "79ef3ad1",
   "metadata": {},
   "outputs": [],
   "source": [
    "npackets = 62000\n",
    "dma_channel.start()\n",
    "czt0.command(\"EVENT_ON\")\n",
    "czt1.command(\"EVENT_ON\")\n",
    "\n",
    "for i in range(npackets):\n",
    "    dma_channel.wait()\n",
    "    main_buffer.extend(event_data_buffer.tolist())\n",
    "    dma_channel.transfer(event_data_buffer)\n",
    "\n",
    "czt1.command(\"EVENT_OFF\")\n",
    "czt0.command(\"EVENT_OFF\")"
   ]
  },
  {
   "cell_type": "code",
   "execution_count": null,
   "id": "82eaed7a",
   "metadata": {},
   "outputs": [],
   "source": [
    "czt1.command(\"BREAK\")\n",
    "czt0.command(\"BREAK\")"
   ]
  },
  {
   "cell_type": "code",
   "execution_count": null,
   "id": "877a2aff",
   "metadata": {},
   "outputs": [],
   "source": [
    "parse_main_buffer = parse_event_data(main_buffer)\n",
    "det0 = []\n",
    "det1 = []\n",
    "for x in parse_main_buffer:\n",
    "    if x[1]== 0:\n",
    "        det1.append(x)\n",
    "    elif x[1]== 1:\n",
    "        det0.append(x)\n",
    "\n",
    "times_det0 = [x[0] for x in det0]\n",
    "pixels_det0 = [x[2] for x in det0]\n",
    "energy_det0 = [x[3] for x in det0]\n",
    "\n",
    "times_det1 = [x[0] for x in det1]\n",
    "pixels_det1 = [x[2] for x in det1]\n",
    "energy_det1 = [x[3] for x in det1]"
   ]
  },
  {
   "cell_type": "code",
   "execution_count": 27,
   "id": "53c85748",
   "metadata": {},
   "outputs": [],
   "source": [
    "times = [x[0] for x in parse_main_buffer]"
   ]
  },
  {
   "cell_type": "code",
   "execution_count": 13,
   "id": "bfc85720",
   "metadata": {},
   "outputs": [
    {
     "name": "stdout",
     "output_type": "stream",
     "text": [
      "[      27       41       43       45       47       49       51       53\n",
      "       55       57       59       61       63       65       67       69\n",
      "       71       73       75       77       79       81       87       89\n",
      "       91       93       95       99      101      103      105      109\n",
      "      111      115      117      119      121      123      127      129\n",
      "      131      135      139      141      143      145      149      151\n",
      "      153      155      157      159      161      169      171      175\n",
      "      177      181      183      187      189      193      197      199\n",
      "      201      207      209      211      215      217      219      235\n",
      "      237      241      243      247      249      251      263      265\n",
      "      271      275      279      283      285      287      291      293\n",
      "      297      301      303      305      311      317      325      329\n",
      "      335      339      341      343      363      369      375      377\n",
      "      379      389      407      411      417      423      425      429\n",
      "      435      443      445      481      491      493      495      499\n",
      "      501      505      515      523      527      555      559      565\n",
      "      567      571      581      583      589      597      603      605\n",
      "      609      617      625      631      633      635      639      643\n",
      "      645      647      661      679      689      691      697      701\n",
      "      703      705      707      717      727      747      751      759\n",
      "      765      769      775      779      801      817      823      829\n",
      "      831      833      835      843      847      853      865      881\n",
      "      889      911      915      933      937      939     1035     1077\n",
      "     1103     1191     1201     1213     1217     1233     1263     1301\n",
      "     1317     1363     1423     1447     1459     1541     1571     1645\n",
      "     1661     1675     1699     1713     1749     1763     1829     1883\n",
      "     1889     1893     1895     1927     1933     1939     1953     1971\n",
      "     1993     2025     2029     2045     2077     2133     2291     2311\n",
      "     2333     2639     2715     2735     2751     2777     2949     3303\n",
      "     4063     4099     4123     4247     4309     4439     4563     5033\n",
      "     5049     5093     5237     5307     5977     6489     6751     7561\n",
      "     7877     8243     8659     8843     9715     9893    11011    12395\n",
      "    13131    13245    14439    17299    18389    18889    49813    50785\n",
      "    50895    67827 64773557]\n"
     ]
    }
   ],
   "source": [
    "print(np.unique(np.diff(times)))"
   ]
  },
  {
   "cell_type": "markdown",
   "id": "0c05c2df",
   "metadata": {},
   "source": [
    "## Coincidence rate in two detectors\n",
    "Number of coincidences/ Acquisition time (in seconds) x Background rate average per second"
   ]
  },
  {
   "cell_type": "code",
   "execution_count": 57,
   "id": "bf79bfc2",
   "metadata": {},
   "outputs": [
    {
     "name": "stdout",
     "output_type": "stream",
     "text": [
      "Event rate in det0 cps = 33.4\n",
      "Event rate in det1 cps = 92.8\n",
      "8.1102799\n"
     ]
    }
   ],
   "source": [
    "timestamps_det0 = np.array(times_det0)/10000\n",
    "timestamps_det1 = np.array(times_det1)/10000\n",
    "count_det0 = len(timestamps_det0)/timestamps_det0[len(timestamps_det0)-1]\n",
    "count_det1 = len(timestamps_det1)/timestamps_det1[len(timestamps_det1)-1]\n",
    "print(f\"Event rate in det0 cps = {count_det0*1000:.1f}\")\n",
    "print(f\"Event rate in det1 cps = {count_det1*1000:.1f}\")\n",
    "average_counts = (count_det0 + count_det1)*1000 / 2\n",
    "acquisition_time = max(np.array(times)/10000000)\n",
    "print(acquisition_time)"
   ]
  },
  {
   "cell_type": "code",
   "execution_count": 25,
   "id": "d3b81cbe",
   "metadata": {},
   "outputs": [
    {
     "name": "stdout",
     "output_type": "stream",
     "text": [
      "Event rate in det0 cps = 3461.4\n"
     ]
    }
   ],
   "source": [
    "timestamps_det0 = np.array(times_det0)/10000\n",
    "count_det0 = len(timestamps_det0)/timestamps_det0[len(timestamps_det0)-1]\n",
    "print(f\"Event rate in det0 cps = {count_det0*1000:.1f}\")"
   ]
  },
  {
   "cell_type": "code",
   "execution_count": 28,
   "id": "b9510d6c",
   "metadata": {},
   "outputs": [
    {
     "name": "stdout",
     "output_type": "stream",
     "text": [
      "184.8976956\n"
     ]
    }
   ],
   "source": [
    "acquisition_time = max(np.array(times)/10000000)\n",
    "print(acquisition_time)"
   ]
  },
  {
   "cell_type": "code",
   "execution_count": 58,
   "id": "7f4376ee",
   "metadata": {},
   "outputs": [
    {
     "name": "stdout",
     "output_type": "stream",
     "text": [
      "Timestamps with coincidences= 0\n",
      "Two detectors coincidence rate % = 0.0000 %\n"
     ]
    }
   ],
   "source": [
    "coincident_counts = []\n",
    "coincident_counts= np.intersect1d(times_det0,times_det1)   \n",
    "print(\"Timestamps with coincidences=\", len(coincident_counts))\n",
    "\n",
    "coincidence_persecond=len(coincident_counts)/acquisition_time\n",
    "#print(coincidence_persecond)\n",
    "#print(average_counts)\n",
    "coincidence= (coincidence_persecond/average_counts)*100\n",
    "print(f\"Two detectors coincidence rate % = {coincidence:.4f} %\")"
   ]
  },
  {
   "cell_type": "code",
   "execution_count": 24,
   "id": "e7021ff8",
   "metadata": {},
   "outputs": [
    {
     "name": "stdout",
     "output_type": "stream",
     "text": [
      "Number of pixels that gave data: 1\n",
      "Number of disabled pixels: 0\n"
     ]
    },
    {
     "data": {
      "image/png": "[encoded data removed]",
      "text/plain": [
       "<Figure size 864x864 with 2 Axes>"
      ]
     },
     "metadata": {
      "needs_background": "light"
     },
     "output_type": "display_data"
    }
   ],
   "source": [
    "pixhist = np.bincount(pixels_det0, minlength=256)\n",
    "plt.figure(figsize=(12,12))\n",
    "plt.title('det0')\n",
    "sns.heatmap(pixhist.reshape((16,16)), cmap=\"icefire\", linewidths=1, annot= True, fmt=\".0f\")\n",
    "print(f\"Number of pixels that gave data: {len(np.unique(pixels_det0))}\\nNumber of disabled pixels: {czt0.num_disabled}\")"
   ]
  },
  {
   "cell_type": "code",
   "execution_count": 25,
   "id": "9c8065b8",
   "metadata": {},
   "outputs": [
    {
     "name": "stdout",
     "output_type": "stream",
     "text": [
      "Number of pixels that gave data: 196\n",
      "Number of disabled pixels: 0\n"
     ]
    },
    {
     "data": {
      "image/png": "[encoded data removed]",
      "text/plain": [
       "<Figure size 864x864 with 2 Axes>"
      ]
     },
     "metadata": {
      "needs_background": "light"
     },
     "output_type": "display_data"
    }
   ],
   "source": [
    "pixhist = np.bincount(pixels_det1, minlength=256)\n",
    "plt.figure(figsize=(12,12))\n",
    "plt.title('det1')\n",
    "sns.heatmap(pixhist.reshape((16,16)), cmap=\"icefire\", linewidths=1, annot= True, fmt=\".0f\")\n",
    "print(f\"Number of pixels that gave data: {len(np.unique(pixels_det1))}\\nNumber of disabled pixels: {czt1.num_disabled}\")"
   ]
  },
  {
   "cell_type": "code",
   "execution_count": 61,
   "id": "2e241804",
   "metadata": {
    "scrolled": true
   },
   "outputs": [
    {
     "data": {
      "text/plain": [
       "271"
      ]
     },
     "execution_count": 61,
     "metadata": {},
     "output_type": "execute_result"
    }
   ],
   "source": [
    "len(times_det0)"
   ]
  },
  {
   "cell_type": "code",
   "execution_count": 62,
   "id": "2aeae8fc",
   "metadata": {},
   "outputs": [
    {
     "data": {
      "text/plain": [
       "753"
      ]
     },
     "execution_count": 62,
     "metadata": {},
     "output_type": "execute_result"
    }
   ],
   "source": [
    "len(times_det1)"
   ]
  },
  {
   "cell_type": "code",
   "execution_count": 23,
   "id": "3e8d60af",
   "metadata": {},
   "outputs": [
    {
     "ename": "NameError",
     "evalue": "name 'timestamps_det0' is not defined",
     "output_type": "error",
     "traceback": [
      "\u001b[0;31m---------------------------------------------------------------------------\u001b[0m",
      "\u001b[0;31mNameError\u001b[0m                                 Traceback (most recent call last)",
      "Input \u001b[0;32mIn [23]\u001b[0m, in \u001b[0;36m<cell line: 5>\u001b[0;34m()\u001b[0m\n\u001b[1;32m      3\u001b[0m binwidth \u001b[38;5;241m=\u001b[39m \u001b[38;5;241m10\u001b[39m\n\u001b[1;32m      4\u001b[0m plt\u001b[38;5;241m.\u001b[39mfigure(figsize\u001b[38;5;241m=\u001b[39m(\u001b[38;5;241m14\u001b[39m,\u001b[38;5;241m7\u001b[39m))\n\u001b[0;32m----> 5\u001b[0m plt\u001b[38;5;241m.\u001b[39mhist(\u001b[43mtimestamps_det0\u001b[49m, bins\u001b[38;5;241m=\u001b[39m\u001b[38;5;28mrange\u001b[39m(\u001b[38;5;28mint\u001b[39m(\u001b[38;5;28mmin\u001b[39m(timestamps_det0)), \u001b[38;5;28mint\u001b[39m(\u001b[38;5;28mmax\u001b[39m(timestamps_det0)) \u001b[38;5;241m+\u001b[39m binwidth, binwidth)\n\u001b[1;32m      6\u001b[0m          ,histtype\u001b[38;5;241m=\u001b[39m\u001b[38;5;124m'\u001b[39m\u001b[38;5;124mstep\u001b[39m\u001b[38;5;124m'\u001b[39m,alpha \u001b[38;5;241m=\u001b[39m \u001b[38;5;241m1\u001b[39m, color\u001b[38;5;241m=\u001b[39m \u001b[38;5;124m'\u001b[39m\u001b[38;5;124mb\u001b[39m\u001b[38;5;124m'\u001b[39m, label \u001b[38;5;241m=\u001b[39m \u001b[38;5;124m'\u001b[39m\u001b[38;5;124mdet0\u001b[39m\u001b[38;5;124m'\u001b[39m)\n\u001b[1;32m      7\u001b[0m          \u001b[38;5;66;03m#, density=True)\u001b[39;00m\n\u001b[1;32m      8\u001b[0m plt\u001b[38;5;241m.\u001b[39mhist(timestamps_det1, bins\u001b[38;5;241m=\u001b[39m\u001b[38;5;28mrange\u001b[39m(\u001b[38;5;28mint\u001b[39m(\u001b[38;5;28mmin\u001b[39m(timestamps_det1)), \u001b[38;5;28mint\u001b[39m(\u001b[38;5;28mmax\u001b[39m(timestamps_det1)) \u001b[38;5;241m+\u001b[39m binwidth, binwidth)\n\u001b[1;32m      9\u001b[0m          ,histtype\u001b[38;5;241m=\u001b[39m\u001b[38;5;124m'\u001b[39m\u001b[38;5;124mstep\u001b[39m\u001b[38;5;124m'\u001b[39m,alpha \u001b[38;5;241m=\u001b[39m \u001b[38;5;241m1\u001b[39m, color\u001b[38;5;241m=\u001b[39m \u001b[38;5;124m'\u001b[39m\u001b[38;5;124mr\u001b[39m\u001b[38;5;124m'\u001b[39m, label \u001b[38;5;241m=\u001b[39m \u001b[38;5;124m'\u001b[39m\u001b[38;5;124mdet1\u001b[39m\u001b[38;5;124m'\u001b[39m)\n",
      "\u001b[0;31mNameError\u001b[0m: name 'timestamps_det0' is not defined"
     ]
    },
    {
     "data": {
      "text/plain": [
       "<Figure size 1008x504 with 0 Axes>"
      ]
     },
     "metadata": {},
     "output_type": "display_data"
    }
   ],
   "source": [
    "# Light curve / exposure curve\n",
    "\n",
    "binwidth = 10\n",
    "plt.figure(figsize=(14,7))\n",
    "plt.hist(timestamps_det0, bins=range(int(min(timestamps_det0)), int(max(timestamps_det0)) + binwidth, binwidth)\n",
    "         ,histtype='step',alpha = 1, color= 'b', label = 'det0')\n",
    "         #, density=True)\n",
    "plt.hist(timestamps_det1, bins=range(int(min(timestamps_det1)), int(max(timestamps_det1)) + binwidth, binwidth)\n",
    "         ,histtype='step',alpha = 1, color= 'r', label = 'det1')\n",
    "         #, density=True)\n",
    "\n",
    "plt.xlabel(\"Samples at ms\")\n",
    "#plt.yticks([])\n",
    "#plt.xlim(0,10000)\n",
    "plt.ylabel(\"Normalized Counts\")\n",
    "plt.legend()\n",
    "plt.show()"
   ]
  },
  {
   "cell_type": "code",
   "execution_count": 26,
   "id": "82efe460",
   "metadata": {},
   "outputs": [
    {
     "data": {
      "image/png": "[encoded data removed]",
      "text/plain": [
       "<Figure size 1008x504 with 1 Axes>"
      ]
     },
     "metadata": {
      "needs_background": "light"
     },
     "output_type": "display_data"
    }
   ],
   "source": [
    "plt.figure(figsize=(14,7))\n",
    "#plt.hist(energy_det0, bins=range(0,4096,10),alpha = 0.5, color= 'b', label = 'det0'\n",
    "         #, density=True)\n",
    "plt.hist(energy_det1, bins=range(0,4096,10), alpha = 0.5, color= 'r', label = 'det1'\n",
    "         , density=True)\n",
    "plt.legend()\n",
    "#plt.yticks([])\n",
    "#plt.ylim(0,100)\n",
    "plt.xlabel(\"PHA\")\n",
    "plt.ylabel(\"Counts\")\n",
    "plt.show()"
   ]
  },
  {
   "cell_type": "code",
   "execution_count": 27,
   "id": "d2d29c58",
   "metadata": {},
   "outputs": [],
   "source": [
    "czt0.command(\"EVENT_OFF\")\n",
    "czt1.command(\"EVENT_OFF\")"
   ]
  },
  {
   "cell_type": "code",
   "execution_count": null,
   "id": "a2a54ffb",
   "metadata": {},
   "outputs": [],
   "source": [
    "with open(\"2det_BaAm_TIFR_20230616_0deg.txt\", \"w\") as file:\n",
    "    file.write(str(main_buffer))"
   ]
  }
 ],
 "metadata": {
  "kernelspec": {
   "display_name": "Python 3 (ipykernel)",
   "language": "python",
   "name": "python3"
  },
  "language_info": {
   "codemirror_mode": {
    "name": "ipython",
    "version": 3
   },
   "file_extension": ".py",
   "mimetype": "text/x-python",
   "name": "python",
   "nbconvert_exporter": "python",
   "pygments_lexer": "ipython3",
   "version": "3.10.4"
  }
 },
 "nbformat": 4,
 "nbformat_minor": 5
}

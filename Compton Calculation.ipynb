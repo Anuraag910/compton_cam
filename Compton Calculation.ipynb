{
 "cells": [
  {
   "cell_type": "code",
   "execution_count": 37,
   "metadata": {},
   "outputs": [],
   "source": [
    "%matplotlib qt                           \n",
    "import numpy as np                    \n",
    "import matplotlib as mp\n",
    "import math\n",
    "import matplotlib.pyplot as plt\n",
    "import scipy\n",
    "from scipy.stats import truncnorm\n",
    "\n",
    "#Define detector and create grid completely using functions \n",
    "class detector():\n",
    "    def __init__(self, centre, side_len, rot, pix_len):    #Assuming square pixels, rot = Angle through which detector is rotated along z = z_centre\n",
    "        self.centre = centre              #Array (1,3),     centre: Array(3)\n",
    "        self.side_x = side_len[0]         #Array Element,   side_len: Array(2)\n",
    "        self.side_y = side_len[1]         #Array Element    \n",
    "        self.rot    = math.radians(rot)        #Lattitudinal Angle\n",
    "        self.pix_len_x= pix_len[0]        #Array Element,   pix_len:Array(2)\n",
    "        self.pix_len_y= pix_len[1]        #Array Element  \n",
    "        self.pix_id = np.arange((side_len[0]/pix_len[0])*(side_len[1]/pix_len[1]))    #Pixel Index\n",
    "        self.pix_area = pix_len[0]*pix_len[1]\n",
    "        #rename 'self.pix_norm' to 'self.pix_area_vect'\n",
    "        self.pix_norm = np.array([math.sin(self.rot), 0 , -math.cos(self.rot)])*(self.pix_area)   #Directed below the detector (negative z direction) \n",
    "        \n",
    "        #X coordinates of pixels\n",
    "        self.pix_x = np.linspace((self.centre[0] - (self.side_x/2)*math.cos(self.rot)), (self.centre[0] + (self.side_x/2)*math.cos(self.rot)), int(self.side_x/self.pix_len_x))\n",
    "        \n",
    "        #Y coordinates of pixels\n",
    "        self.pix_y = np.linspace((self.centre[1] - (self.side_y/2)), (self.centre[1] + (self.side_y/2)), int(self.side_y/self.pix_len_y))\n",
    "        \n",
    "        #z coordinates of pixels\n",
    "        self.pix_z = np.linspace((self.centre[2] - (self.side_x/2)*math.sin(self.rot)), (self.centre[2] + (self.side_x/2)*math.sin(self.rot)), int(self.side_x/self.pix_len_x))\n",
    "        \n",
    "        \n",
    "        self.pix_x_mesh, self.pix_y_mesh = np.meshgrid(self.pix_x, self.pix_y)     #Mesh Coordinates for 3D Plotting\n",
    "        self.pix_z_mesh, self.pix_y_mesh = np.meshgrid(self.pix_z, self.pix_y)     #Mesh Coordinates for 3D Plotting\n",
    "        \n",
    "        self.pix_x_mesh_flat = (self.pix_x_mesh).reshape(len(self.pix_x)*len(self.pix_y))  #Flattened Mesh x\n",
    "        self.pix_y_mesh_flat = (self.pix_y_mesh).reshape(len(self.pix_x)*len(self.pix_y))  #Flattened Mesh y\n",
    "        self.pix_z_mesh_flat = (self.pix_z_mesh).reshape(len(self.pix_z)*len(self.pix_y))  #Flattened Mesh z\n",
    "\n",
    "    \n",
    "    def plot_pix(self):   #Graph for displaying pixels\n",
    "        from mpl_toolkits.mplot3d import Axes3D\n",
    "        fig = plt.figure()\n",
    "        ax = fig.add_subplot(111, projection='3d')\n",
    "        ax.scatter(self.pix_x_mesh, self.pix_y_mesh, self.pix_z_mesh)\n",
    "        plt.show()\n",
    "        \n",
    "    def conv_1(self,t):   #Conversion of flat mesh array parameter into coordinates of pixels wrt corner of detector\n",
    "        return tuple(reversed(divmod(t, len(self.pix_x))))\n",
    "    \n",
    "    def conv_2(self,x,y):  #Conversion of x,y(wrt to corner of detector) into flat mesh array parameter \n",
    "        return (y*len(self.pix_x) + x)   \n",
    "\n",
    "\n",
    "CZT = detector([5, 0, 10], [16, 20], 40, [1, 1])\n",
    "NaI = detector([0, 0, 0], [20, 20], 0, [1, 1])\n",
    "incident_photon_dir = CZT.pix_norm\n",
    "#incident_photon_dir = [0,0,-1]   #Direction(Unit vector) of the incident beam of photons\n",
    "counts_per_pix= 1e7  #Number of photons incident on each CZT pixel \n",
    "\n",
    "#------------------------------------------------------------------------------------------------------------------------------\n",
    "#Plot both detector pixels in one graph    \n",
    "def plot_both_det(): \n",
    "    \n",
    "    '''This function plots both the detectors simultaneously'''\n",
    "    \n",
    "    from mpl_toolkits.mplot3d import Axes3D\n",
    "    fig = plt.figure()\n",
    "    ax = fig.add_subplot(111, projection='3d')\n",
    "    czt = ax.scatter(CZT.pix_x_mesh, CZT.pix_y_mesh, CZT.pix_z_mesh) \n",
    "    nai = ax.scatter(NaI.pix_x_mesh, NaI.pix_y_mesh, NaI.pix_z_mesh) \n",
    "    ax.set_xlabel('X axis')\n",
    "    ax.set_ylabel('Y axis')\n",
    "    ax.set_zlabel('Z axis')\n",
    "    ax.legend((czt, nai), ('CZT', 'NaI'))\n",
    "    plt.show()\n",
    "    \n",
    "#-----------------------------------------------------------------------------------------------------------------------------\n",
    "\n",
    "def sol_ang_cart(x, y, z):      #Array containing all solid angles\n",
    "    \n",
    "    '''This function returns values of solid angles subtended by all NaI pixels at a point (x, y, z), in the form of a\n",
    "       2 dimensional numpy array and a 1 dimensional flat array '''\n",
    "    \n",
    "    vect_mesh = np.array([NaI.pix_x_mesh- x, NaI.pix_y_mesh- y, NaI.pix_z_mesh- z])\n",
    "    vect_mesh_flat = vect_mesh.reshape(3,1,len(NaI.pix_x)*len(NaI.pix_y))  \n",
    "    proj_area= np.zeros(len(NaI.pix_x)*len(NaI.pix_y))\n",
    "    solid_ang_flat = np.zeros(len(NaI.pix_x)*len(NaI.pix_y))\n",
    "    for j in range(len(NaI.pix_x)*len(NaI.pix_y)):\n",
    "        vect_f = np.array([vect_mesh_flat[0][0][j], vect_mesh_flat[1][0][j], vect_mesh_flat[2][0][j]])\n",
    "        proj_area[j] = np.dot(NaI.pix_norm, (vect_f/np.linalg.norm(vect_f)))\n",
    "        solid_ang_flat[j]= proj_area[j]/np.square(np.linalg.norm(vect_f))\n",
    "        solid_ang = solid_ang_flat.reshape(len(NaI.pix_y), len(NaI.pix_x))\n",
    "    return solid_ang, solid_ang_flat    \n",
    "\n",
    "def sol_ang_prob_cart(x, y, z):   #If photon is scattered from a point (x,y,z),not constrained to lie on the CZT surface, then where is it most likely to hit the NaI detector \n",
    "   \n",
    "    '''This function returns the probability of a photon being detected at any NaI pixel when scattered from the point (x,y,z)\n",
    "       in the form of a 2 dimensional numpy array and a 1 dimensional flat numpy array. It also returns the maximum of the probabilities'''\n",
    "    '''The pixel corresponding to the maxima is the pixel where the photon is most likely to hit the NaI detector'''\n",
    "    \n",
    "    solid_angle_prob= (sol_ang_cart(x, y, z)[0])/(4*math.pi)    \n",
    "    maximum_prob = max((sol_ang_cart(x, y, z)[1])/(4*math.pi))    \n",
    "    solid_angle_prob_flat = (sol_ang_cart(x, y, z)[1])/(4*math.pi)    \n",
    "    return solid_angle_prob, solid_angle_prob_flat,  maximum_prob\n",
    "\n",
    "def plot_sol_ang_prob_cart(x, y, z):           #Function for plotting solid angle probability\n",
    "    \n",
    "    '''This function plots the above calculated solid angle probability, or the probability due to projection, for all pixels in the NaI detector'''\n",
    "    \n",
    "    from mpl_toolkits.mplot3d import Axes3D\n",
    "    fig = plt.figure()\n",
    "    ax = fig.add_subplot(111, projection='3d')\n",
    "    ax.plot_surface(NaI.pix_x_mesh ,NaI.pix_y_mesh, sol_ang_prob_cart(x, y, z)[0], rstride= 1, cstride= 1)\n",
    "    ax.set_xlabel('Pixel X')\n",
    "    ax.set_ylabel('Pixel Y')\n",
    "    ax.set_zlabel('Solid Angle Probability')\n",
    "    plt.show()    \n",
    "    \n",
    "def sol_ang_CZT_i(i):\n",
    "    return sol_ang_cart(CZT.pix_x_mesh_flat[i], CZT.pix_y_mesh_flat[i], CZT.pix_z_mesh_flat[i])\n",
    "\n",
    "def prob_1_CZT_i(i):             #Prob distribution with flat array parameteras input \n",
    "    \n",
    "    '''Convention followed throughout- \n",
    "       -There are 2 probabilities of interest. Solid angle probability and Compton probability. The numbers 1 and 2 are used to identify which\n",
    "        probability the function is refering to.\n",
    "       -The input coordinate/array parameter could be that of a CZT pixel or NaI pixel. This is mentioned in the function name. \n",
    "       -The flat array index 'i' is used for CZT arrays, and 'j' for NaI arrays.\n",
    "       -Functions with flat array parameter/ index of array (ie. 'i' or 'j')as input will be mentioned in the function name itself.\n",
    "       -Same done for 2 dimensional input. Example: Cartesian input mentioned in name as 'cart'\n",
    "       '''\n",
    "    \n",
    "    return sol_ang_prob_cart(CZT.pix_x_mesh_flat[i], CZT.pix_y_mesh_flat[i], CZT.pix_z_mesh_flat[i])\n",
    "\n",
    "def prob_1_CZT_cart(x,y):     #Prob distribution with cartesian coordinates as input \n",
    "    \"\"\"\n",
    "    Prob distribution with relative cartesian coordinates as input.\n",
    "    The coordinates input should be relative to the detector. The lower left vertex of the detector should be considered as origin. \n",
    "    \"\"\"\n",
    "    i = CZT.conv_2(x,y)  \n",
    "    return prob_1_CZT_i(i)\n",
    "\n",
    "def plot_prob_1_CZT_cart(x,y):\n",
    "    '''Plotting the above probability'''\n",
    "    from mpl_toolkits.mplot3d import Axes3D\n",
    "    fig = plt.figure()\n",
    "    ax = fig.add_subplot(111, projection='3d')\n",
    "    ax.plot_surface(NaI.pix_x_mesh ,NaI.pix_y_mesh, prob_1_CZT_cart(x,y)[0], rstride= 1, cstride= 1)\n",
    "    ax.set_xlabel('Pixel X')\n",
    "    ax.set_ylabel('Pixel Y')\n",
    "    ax.set_zlabel('Probability')\n",
    "    plt.show()    \n",
    "\n",
    "#--------------------------------------------------------------------------------------------------------------------------\n",
    "\n",
    "#First detector calculations\n",
    "def theta_sc():             \n",
    "    '''Function for calculating scatterred angle(in degrees) for all pairs of CZT and NaI pixels; Gives entire scattered angle data in a 2D array'''\n",
    "    theta_scattered = np.zeros((len(CZT.pix_x_mesh_flat), len(NaI.pix_x_mesh_flat)))\n",
    "    for i in range(len(CZT.pix_x_mesh_flat)):\n",
    "        for j in range(len(NaI.pix_x_mesh_flat)):\n",
    "            theta_scattered[i][j] = np.degrees(math.acos(np.dot([NaI.pix_x_mesh_flat[j] - CZT.pix_x_mesh_flat[i], NaI.pix_y_mesh_flat[j]- CZT.pix_y_mesh_flat[i], NaI.pix_z_mesh_flat[j]- CZT.pix_z_mesh_flat[i]], incident_photon_dir)/np.linalg.norm([NaI.pix_x_mesh_flat[j] - CZT.pix_x_mesh_flat[i], NaI.pix_y_mesh_flat[j]- CZT.pix_y_mesh_flat[i], NaI.pix_z_mesh_flat[j]- CZT.pix_z_mesh_flat[i]])))\n",
    "    return theta_scattered\n",
    "\n",
    "def theta_sc_CZT_i(i):           \n",
    "    '''Function for calculating scatterred angle for a photon scatterd from a particular postion on CZT.\n",
    "       Output in the form of a 2 dimensional numpy array, and 1 dimensional flat array. The function also returns range of scattering angle'''\n",
    "    theta_scattered_i_flat = np.zeros(len(NaI.pix_x_mesh_flat))\n",
    "    for j in range(len(NaI.pix_x_mesh_flat)):\n",
    "            theta_scattered_i_flat[j] = np.degrees(math.acos(np.dot([NaI.pix_x_mesh_flat[j] - CZT.pix_x_mesh_flat[i], NaI.pix_y_mesh_flat[j]- CZT.pix_y_mesh_flat[i], NaI.pix_z_mesh_flat[j]- CZT.pix_z_mesh_flat[i]], incident_photon_dir)/np.linalg.norm([NaI.pix_x_mesh_flat[j] - CZT.pix_x_mesh_flat[i], NaI.pix_y_mesh_flat[j]- CZT.pix_y_mesh_flat[i], NaI.pix_z_mesh_flat[j]- CZT.pix_z_mesh_flat[i]])))\n",
    "    theta_scattered = theta_scattered_i_flat.reshape(len(NaI.pix_y), len(NaI.pix_x))\n",
    "    theta_range = max(theta_scattered_i_flat) - min(theta_scattered_i_flat)\n",
    "    return theta_scattered, theta_scattered_i_flat, theta_range\n",
    "\n",
    "def theta_sc_CZT_cart(x, y):    #Same function as theta_sc_CZT_i with cartesian inputs          \n",
    "    '''Function for calculating scattering angle with relative cartesian inputs'''\n",
    "    i = CZT.conv_2(x,y)  \n",
    "    return theta_sc_CZT_i(i)\n",
    "\n",
    "def plot_theta_sc_CZT_cart(x,y):     #For plotting scattered angle      \n",
    "    '''Function plots the scattered angle for a particular CZT pixel as the scattering centre'''\n",
    "    import matplotlib.pyplot as plt\n",
    "    from mpl_toolkits.mplot3d import Axes3D\n",
    "    fig = plt.figure()\n",
    "    ax = fig.add_subplot(111, projection='3d')\n",
    "    ax.plot_surface( NaI.pix_x_mesh, NaI.pix_y_mesh, (theta_sc_CZT_cart(x,y)[0]) , rstride= 3, cstride= 3)\n",
    "    ax.set_xlabel('X')\n",
    "    ax.set_ylabel('Y')\n",
    "    ax.set_zlabel('Scattering Angle (Degrees)')\n",
    "    plt.show()\n",
    "\n",
    "#-----------------------------------------------------------------------------------------------------------------------------\n",
    "\n",
    "#Energy scattered \n",
    "energy_i_val = np.arange(20, 201, 1)            #Range of energy of incident photon in keV\n",
    "constant_1= 511                    #constant_1(Rest energy of electron in keV) used to calculate scattered angle \n",
    "\n",
    "\n",
    "#If a photon of a particular energy(e) hits a particular CZT pixel(i) then what is energy distribution after collision.\n",
    "def energy_sc_CZT_i(e, i):   #Energy of Scattered Photon/ Received energy\n",
    "    '''Function for calculating the energy of all scattered photons, with incident energy 'e' and 'i'th CZT pixel as the scattering centre.\n",
    "       Output in the form of 2 dimensional numpy array as well as a 1 dimensional flat array'''\n",
    "    e_rep = np.repeat(e, len(NaI.pix_x)*len(NaI.pix_y))\n",
    "    energy_scattered_flat = e_rep/(1+ (e_rep/constant_1)*(1-np.cos(np.radians((theta_sc_CZT_i(i))[1]))))\n",
    "    energy_scattered = energy_scattered_flat.reshape(len(NaI.pix_y), len(NaI.pix_x))\n",
    "    return energy_scattered, energy_scattered_flat\n",
    "\n",
    "def energy_sc_CZT_cart(e, x, y):\n",
    "    '''The above energy with relative cartesian coordinates as input'''\n",
    "    i = CZT.conv_2(x,y) \n",
    "    return energy_sc_CZT_i(e, i)\n",
    "\n",
    "def plot_energy_sc_CZT_cart(e, x, y):\n",
    "    '''Function for plotting the enrgy of scattered photon with relative cartesian coordinates as input'''\n",
    "    from mpl_toolkits.mplot3d import Axes3D\n",
    "    fig = plt.figure()\n",
    "    ax = fig.add_subplot(111, projection='3d')\n",
    "    ax.plot_surface(NaI.pix_x_mesh, NaI.pix_y_mesh, energy_sc_CZT_cart(e , x, y)[0])\n",
    "    ax.set_xlabel('X')\n",
    "    ax.set_ylabel('Y')\n",
    "    ax.set_zlabel('Energy of Scattered Photon (keV)')\n",
    "    plt.show()\n",
    "    \n",
    "def delta_energy_CZT_i(e, i):\n",
    "    '''Function for calculating difference in energies of photons before and after scattering'''\n",
    "    energy_diff_flat = np.repeat(e, len(NaI.pix_x)*len(NaI.pix_y)) - energy_sc_CZT_i(e, i)[1]\n",
    "    energy_diff= energy_diff_flat.reshape(len(NaI.pix_y), len(NaI.pix_x))\n",
    "    return energy_diff, energy_diff_flat \n",
    "\n",
    "def delta_energy_CZT_cart(e, x, y):\n",
    "    '''Function for difference in energy with relative cartesian coordinates as input'''\n",
    "    i = CZT.conv_2(x,y) \n",
    "    return delta_energy_CZT_i(e, i)\n",
    "\n",
    "def plot_delta_energy_CZT_cart(e, x, y):\n",
    "    ''''''\n",
    "    from mpl_toolkits.mplot3d import Axes3D\n",
    "    fig = plt.figure()\n",
    "    ax = fig.add_subplot(111, projection='3d')\n",
    "    ax.plot_surface(NaI.pix_x_mesh, NaI.pix_y_mesh, delta_energy_CZT_cart(e, x, y)[0])\n",
    "    ax.set_xlabel('X')\n",
    "    ax.set_ylabel('Y')\n",
    "    ax.set_zlabel('Energy Difference (keV)')\n",
    "    plt.show()\n",
    "\n",
    "#------------------------------------------------------------------------------------------------------------------------------\n",
    "'''This section contains unsused functions'''\n",
    "'''These functions were used to generate random gaussian distribution of incident energies with a specific mean, lower limit,\n",
    "   upper limit, and a standard deviation. \n",
    "   It is assumed in this code that the incident photons are monochromatic (ie. equal energy) hence the following functions are\n",
    "   not required'''\n",
    "#Energy incident distribution would be an array containing values ranging from 20 to 200 keV. It could be a flat array or an array with the same shape as CZT.pix_x_mesh/CZT.pix_y_mesh\n",
    "# Gaussian/Normal Distribution of Incident Energy\n",
    "\n",
    "def get_truncated_normal(mean, sd, low, upp):    #Truncated gaussian/normal\n",
    "    return truncnorm((low - mean) / sd, (upp - mean) / sd, loc=mean, scale=sd)\n",
    "     \n",
    "def energy_i_guass_dist():                  #Flat array as output\n",
    "    X = get_truncated_normal(mean=130, sd=27, low=20, upp=200)\n",
    "    enrgy_incident= X.rvs(len(CZT.pix_x)*len(CZT.pix_y))\n",
    "    return enrgy_incident\n",
    "\n",
    "def plot_hist():                      #Plot histogram\n",
    "    plt.hist(energy_i_guass_dist(), bins=181)\n",
    "\n",
    "#------------------------------------------------------------------------------------------------------------------------------\n",
    "#Klein- Nishina Formula\n",
    "#For now, assume that there is just one electron per pixel from which the photons scatter\n",
    "\n",
    "constant_2 = 7.9406e-30   #Refer Klein-Nishina Formula \n",
    "electron_density = 1e27   #Currently set to an arbritary value\n",
    "def delta_sigma(e,i,j):\n",
    "    energy_ratio = (energy_sc_CZT_i(e, i)[1][j])/e\n",
    "    delta_sigma = (sol_ang_CZT_i(i)[1][j])*constant_2*(energy_ratio**2)*(energy_ratio + energy_ratio**(-1) - (math.sin(np.radians(theta_sc_CZT_i(i)[1][j])))**2)\n",
    "    return delta_sigma\n",
    "\n",
    "def prob_2_CZT_NaI_i_j(e,i,j):\n",
    "    return delta_sigma(e,i,j)*electron_density\n",
    "\n",
    "def prob_2_CZT_i(e, i):\n",
    "    prob_2_CZT_i_arr_flat = np.zeros(len(NaI.pix_x)*len(NaI.pix_y))\n",
    "    for j in range(len(NaI.pix_x)*len(NaI.pix_y)):\n",
    "        prob_2_CZT_i_arr_flat[j]= prob_2_CZT_NaI_i_j(e, i, j)\n",
    "    prob_arr_2_i_arr_2d = prob_2_CZT_i_arr_flat.reshape(len(NaI.pix_y), len(NaI.pix_x))\n",
    "    return prob_arr_2_i_arr_2d, prob_2_CZT_i_arr_flat\n",
    "\n",
    "def prob_2_CZT_cart(e, x, y):\n",
    "    i = CZT.conv_2(x,y)\n",
    "    return prob_2_CZT_i(e, i)\n",
    "\n",
    "def plot_prob_2_CZT_cart(e, x, y):\n",
    "    i = CZT.conv_2(x,y)\n",
    "    from mpl_toolkits.mplot3d import Axes3D\n",
    "    fig = plt.figure()\n",
    "    ax = fig.add_subplot(111, projection='3d')\n",
    "    ax.plot_surface(NaI.pix_x_mesh, NaI.pix_y_mesh, prob_2_CZT_i(e, i)[0])\n",
    "    ax.set_xlabel('X')\n",
    "    ax.set_ylabel('Y')\n",
    "    ax.set_zlabel('Probability 2')\n",
    "    plt.show()    \n",
    "#-------------------------------------------------------------------------------------------------------------------------------  \n",
    "#Final Distribution of photons on the NaI detector \n",
    "\n",
    "def combined_prob_CZT_cart(e, x, y):\n",
    "    '''This function returns the final probability'''\n",
    "    return prob_2_CZT_cart(e, x, y)[0]*prob_1_CZT_cart(x,y)[0], prob_2_CZT_cart(e, x, y)[1]*prob_1_CZT_cart(x,y)[1]\n",
    "\n",
    "def plot_combined_prob_CZT_cart(e,x,y):   \n",
    "    '''The function below plots the probability that a photon, which is incident on the specified CZT pixel with energy 'e', would be received on each of the NaI detectors. \n",
    "    In other words, the function plots the fraction of photons received by the NaI pixels below. \n",
    "    '''\n",
    "    import matplotlib.pyplot as plt\n",
    "    from mpl_toolkits.mplot3d import Axes3D\n",
    "    fig = plt.figure()\n",
    "    ax = fig.add_subplot(111, projection='3d')\n",
    "    ax.plot_surface( NaI.pix_x_mesh, NaI.pix_y_mesh, prob_2_CZT_cart(e, x, y)[0]*prob_1_CZT_cart(x,y)[0] , rstride= 3, cstride= 3)\n",
    "    ax.set_xlabel('X')\n",
    "    ax.set_ylabel('Y')\n",
    "    ax.set_zlabel('Probaility')\n",
    "    plt.show()\n",
    "\n",
    "def plot_combined_prob_heat_map_CZT_cart(e, x, y):\n",
    "    '''\n",
    "    This function plots the corresponding heat map for the combined probabilities for better representation.\n",
    "    This is similiar to the 3D plot of the probabilities given by the function.\n",
    "    '''\n",
    "    plt.figure()\n",
    "    plt.imshow(combined_prob_CZT_cart(e, x, y)[0], origin = 'lower')\n",
    "    plt.show()\n",
    "#------------------------------------------------------------------------------------------------------------------------------   \n",
    "#Spectrum Calculations\n",
    "def theta_sc_NaI_j(j):       \n",
    "    '''This function calculates scattering angles for all photons which scattered from all CZT pixels and are detected by NaI pixel with index 'j'.\n",
    "       The function returns a 1 dimensional array with all angles.'''\n",
    "    theta_scattered = np.zeros((len(CZT.pix_x_mesh_flat)))\n",
    "    for i in range(len(CZT.pix_x_mesh_flat)):\n",
    "        theta_scattered[i] = np.degrees(math.acos(np.dot([NaI.pix_x_mesh_flat[j] - CZT.pix_x_mesh_flat[i], NaI.pix_y_mesh_flat[j]- CZT.pix_y_mesh_flat[i], NaI.pix_z_mesh_flat[j]- CZT.pix_z_mesh_flat[i]], incident_photon_dir)/np.linalg.norm([NaI.pix_x_mesh_flat[j] - CZT.pix_x_mesh_flat[i], NaI.pix_y_mesh_flat[j]- CZT.pix_y_mesh_flat[i], NaI.pix_z_mesh_flat[j]- CZT.pix_z_mesh_flat[i]])))\n",
    "    return theta_scattered\n",
    "\n",
    "def energy_sc_NaI_j(e, j):\n",
    "    '''This function calculates the energies of photons with incident energy 'e',  after scattering from all CZT pixels, received by NaI pixel with index 'j'.\n",
    "       The function returns a single 1 dimensional array with all energy values.''' \n",
    "    e_rep = np.repeat(e, len(CZT.pix_x)*len(CZT.pix_y))\n",
    "    energy_scattered_j = e_rep/(1+ (e_rep/constant_1)*(1-np.cos(np.radians(theta_sc_NaI_j(j)))))\n",
    "    return energy_scattered_j\n",
    "\n",
    "def num_phot_NaI_j(e, j):\n",
    "    '''This function returns the number of photons received by a NaI pixel with index 'j' after scattering from all CZT pixels. \n",
    "       The function returns a 1 dimensional array with the number of photons received from each CZT pixel.'''\n",
    "    num_phot = np.zeros((len(CZT.pix_x_mesh_flat)))\n",
    "    for i in range(len(CZT.pix_x_mesh_flat)):\n",
    "        vector = (NaI.pix_x_mesh_flat[j]-CZT.pix_x_mesh_flat[i] , NaI.pix_y_mesh_flat[j]-CZT.pix_y_mesh_flat[i], NaI.pix_z_mesh_flat[j]-CZT.pix_z_mesh_flat[i])\n",
    "        sol_ang_j = np.dot(NaI.pix_norm, vector)/(np.power(np.linalg.norm(vector), 3))\n",
    "        prob_j = sol_ang_j/(4*math.pi)\n",
    "        num_phot[i] = counts_per_pix*(prob_j)*prob_2_CZT_NaI_i_j(e,i, j)\n",
    "    return num_phot\n",
    "\n",
    "def sorted_data(e, j):\n",
    "    '''This function is not used in the code but helps interpret data in a easier fashion.\n",
    "    The function sorts the energies of photons and number of photons received by the specified NaI pixel in the for of a \n",
    "    2 dimensional array arranged in ascending order of energies'''\n",
    "    double_data = np.zeros((len(CZT.pix_x_mesh_flat), 2))\n",
    "    for i in range(len(CZT.pix_x_mesh_flat)):\n",
    "        vector = (NaI.pix_x_mesh_flat[j]-CZT.pix_x_mesh_flat[i] , NaI.pix_y_mesh_flat[j]-CZT.pix_y_mesh_flat[i], NaI.pix_z_mesh_flat[j]-CZT.pix_z_mesh_flat[i])\n",
    "        sol_ang_j = np.dot(NaI.pix_norm, vector)/(np.power(np.linalg.norm(vector), 3))\n",
    "        prob_j = sol_ang_j/(4*math.pi)\n",
    "        num_phot = counts_per_pix*(prob_j)*prob_2_CZT_NaI_i_j(e,i, j)\n",
    "        double_data[i] = [energy_sc_NaI_j(e, j)[i], num_phot]\n",
    "    return sorted(double_data, key=lambda x : x[0]) \n",
    "\n",
    "def plot_spec_NaI_cart(e, x, y):\n",
    "    '''This function plots the spectrum for incident  energy 'e' , ie. Number of photons of same energy received, vs, the energy of those photons with same energy, received by a NaI pixel 'j'  \n",
    "    The function returns a scatter plot.\n",
    "    '''\n",
    "    j = NaI.conv_2(x, y)\n",
    "    plt.scatter(energy_sc_NaI_j(e,j), num_phot_NaI_j(e, j))\n",
    "    plt.title('Spectrum ')\n",
    "    plt.xlabel('Energy of Scattered Photon (keV)')\n",
    "    plt.ylabel('Number of photons')\n",
    "    plt.show()\n",
    "    \n",
    "    \n",
    "def plot_hist_NaI_cart(e, x, y):\n",
    "    '''\n",
    "    This function puts the spectrum data in the form of a histogram with 50 bins. \n",
    "    The number of bins can be changed to the desired value.\n",
    "    The histogram takes the number of photons as weight for each energy recevied. \n",
    "    '''\n",
    "    j = NaI.conv_2(x, y)\n",
    "    plt.figure()\n",
    "    plt.hist(energy_sc_NaI_j(e, j), bins = 50, weights = num_phot_NaI_j(e, j), histtype = 'bar')\n",
    "    plt.xlabel('Energy (keV)')\n",
    "    plt.ylabel('Number of Photons')\n",
    "    plt.show()\n",
    "\n",
    "def mult_spec_NaI_cart_energy(energies, x,y):\n",
    "    '''This function plots spectrums for 6 multiple energies together for a NaI pixel with relative cartesian coordinates (x,y).\n",
    "       These energies are to included in a list/1D array.\n",
    "       '''\n",
    "    for k in range(6):\n",
    "        plot_spec_NaI_cart(energies[k],x, y)     \n",
    "    plt.legend([ energies[0] ,  energies[1] , energies[2] , energies[3] , energies[4], energies[5] ])\n",
    "\n",
    "def mult_spec_NaI_cart_position(positions, e):\n",
    "    '''This function returns scatter plots for various positions corersponding to a specific incident energy 'e'.\n",
    "    These positions need to be mentioned in the form a two dimensional array\n",
    "    '''\n",
    "    for k in range(6):\n",
    "        plt.subplot(2,3,k+1)\n",
    "        plot_spec_NaI_cart(e ,positions[k][0], positions[k][1])     \n",
    "        plt.legend([ (positions[k][0], positions[k][1])])       \n"
   ]
  },
  {
   "cell_type": "code",
   "execution_count": 38,
   "metadata": {},
   "outputs": [],
   "source": [
    "plot_both_det()"
   ]
  },
  {
   "cell_type": "code",
   "execution_count": 19,
   "metadata": {},
   "outputs": [],
   "source": [
    "mult_spec_NaI_cart_energy([20,80,120,150,180,200], 10,10)\n"
   ]
  },
  {
   "cell_type": "code",
   "execution_count": 3,
   "metadata": {},
   "outputs": [],
   "source": [
    "mult_spec_NaI_cart_position([[0,0], [0,10], [10,0], [10,10], [15,15], [19,19]], 2)"
   ]
  },
  {
   "cell_type": "code",
   "execution_count": 5,
   "metadata": {},
   "outputs": [],
   "source": [
    "plot_combined_prob_heat_map_CZT_cart(2, 12, 10)"
   ]
  },
  {
   "cell_type": "code",
   "execution_count": 6,
   "metadata": {},
   "outputs": [],
   "source": [
    "plot_combined_prob_heat_map_CZT_cart(180, 12, 10)"
   ]
  },
  {
   "cell_type": "code",
   "execution_count": 7,
   "metadata": {},
   "outputs": [],
   "source": [
    "plot_combined_prob_CZT_cart(2,0,10)"
   ]
  },
  {
   "cell_type": "code",
   "execution_count": 8,
   "metadata": {},
   "outputs": [],
   "source": [
    "plot_combined_prob_CZT_cart(180,12, 10)"
   ]
  },
  {
   "cell_type": "code",
   "execution_count": 9,
   "metadata": {},
   "outputs": [
    {
     "data": {
      "text/plain": [
       "335"
      ]
     },
     "execution_count": 9,
     "metadata": {},
     "output_type": "execute_result"
    }
   ],
   "source": [
    "CZT.conv_2(15, 20)"
   ]
  },
  {
   "cell_type": "code",
   "execution_count": 10,
   "metadata": {},
   "outputs": [
    {
     "data": {
      "text/plain": [
       "16"
      ]
     },
     "execution_count": 10,
     "metadata": {},
     "output_type": "execute_result"
    }
   ],
   "source": [
    "len(CZT.pix_x)"
   ]
  },
  {
   "cell_type": "code",
   "execution_count": 11,
   "metadata": {},
   "outputs": [
    {
     "data": {
      "text/plain": [
       "20"
      ]
     },
     "execution_count": 11,
     "metadata": {},
     "output_type": "execute_result"
    }
   ],
   "source": [
    "len(CZT.pix_y)"
   ]
  },
  {
   "cell_type": "code",
   "execution_count": 12,
   "metadata": {},
   "outputs": [
    {
     "data": {
      "text/plain": [
       "1280"
      ]
     },
     "execution_count": 12,
     "metadata": {},
     "output_type": "execute_result"
    }
   ],
   "source": [
    "32*40"
   ]
  },
  {
   "cell_type": "code",
   "execution_count": 13,
   "metadata": {},
   "outputs": [],
   "source": [
    "plot_hist_NaI_cart(180, 0, 10)"
   ]
  },
  {
   "cell_type": "code",
   "execution_count": 14,
   "metadata": {},
   "outputs": [],
   "source": [
    "plot_spec_NaI_cart(180, 0, 10)"
   ]
  },
  {
   "cell_type": "code",
   "execution_count": 15,
   "metadata": {},
   "outputs": [],
   "source": [
    "plot_spec_NaI_cart(180, 15, 10)"
   ]
  },
  {
   "cell_type": "code",
   "execution_count": 16,
   "metadata": {},
   "outputs": [],
   "source": [
    "plot_hist_NaI_cart(180, 15, 10)\n"
   ]
  },
  {
   "cell_type": "code",
   "execution_count": 17,
   "metadata": {},
   "outputs": [
    {
     "data": {
      "text/plain": [
       "210"
      ]
     },
     "execution_count": 17,
     "metadata": {},
     "output_type": "execute_result"
    }
   ],
   "source": [
    "NaI.conv_2(10,10)"
   ]
  },
  {
   "cell_type": "code",
   "execution_count": 18,
   "metadata": {},
   "outputs": [
    {
     "data": {
      "text/plain": [
       "<function __main__.plot_hist_NaI_cart(e, x, y)>"
      ]
     },
     "execution_count": 18,
     "metadata": {},
     "output_type": "execute_result"
    }
   ],
   "source": [
    "plot_hist_NaI_cart"
   ]
  }
 ],
 "metadata": {
  "kernelspec": {
   "display_name": "cube",
   "language": "python",
   "name": "python3"
  },
  "language_info": {
   "codemirror_mode": {
    "name": "ipython",
    "version": 3
   },
   "file_extension": ".py",
   "mimetype": "text/x-python",
   "name": "python",
   "nbconvert_exporter": "python",
   "pygments_lexer": "ipython3",
   "version": "3.10.14"
  }
 },
 "nbformat": 4,
 "nbformat_minor": 2
}

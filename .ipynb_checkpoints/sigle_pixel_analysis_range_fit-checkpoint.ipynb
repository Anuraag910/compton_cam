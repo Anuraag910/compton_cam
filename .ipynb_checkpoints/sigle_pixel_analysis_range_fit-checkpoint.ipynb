{
 "cells": [
  {
   "cell_type": "code",
   "execution_count": 1,
   "id": "7c0ae6af",
   "metadata": {},
   "outputs": [],
   "source": [
    "from astropy.io import fits\n",
    "import numpy as np\n",
    "import astropy\n",
    "from astropy.table import Table\n",
    "import matplotlib.pyplot as plt"
   ]
  },
  {
   "cell_type": "code",
   "execution_count": 2,
   "id": "d501d6c2",
   "metadata": {},
   "outputs": [],
   "source": [
    "path = '/home/suman/tifr/'\n",
    "file = path + '202307011_1506_Am241_on_det1_30000pkts.fits'\n",
    "file1 = path + '202307011_1531_Eu_on_det1_30000pkts.fits'\n",
    "hdul = fits.open(file)[1]"
   ]
  },
  {
   "cell_type": "code",
   "execution_count": 3,
   "id": "a4d28b34",
   "metadata": {},
   "outputs": [
    {
     "data": {
      "text/html": [
       "<div><i>Table length=3842560</i>\n",
       "<table id=\"table139760710801824\" class=\"table-striped table-bordered table-condensed\">\n",
       "<thead><tr><th>time</th><th>detid</th><th>pixid</th><th>pha</th></tr></thead>\n",
       "<thead><tr><th>uint32</th><th>int16</th><th>int16</th><th>int16</th></tr></thead>\n",
       "<tr><td>0</td><td>0</td><td>0</td><td>0</td></tr>\n",
       "<tr><td>0</td><td>0</td><td>0</td><td>0</td></tr>\n",
       "<tr><td>0</td><td>0</td><td>0</td><td>0</td></tr>\n",
       "<tr><td>0</td><td>0</td><td>0</td><td>0</td></tr>\n",
       "<tr><td>0</td><td>0</td><td>0</td><td>0</td></tr>\n",
       "<tr><td>0</td><td>0</td><td>0</td><td>0</td></tr>\n",
       "<tr><td>...</td><td>...</td><td>...</td><td>...</td></tr>\n",
       "<tr><td>729060084</td><td>1</td><td>181</td><td>599</td></tr>\n",
       "<tr><td>729060133</td><td>1</td><td>0</td><td>346</td></tr>\n",
       "<tr><td>729060432</td><td>1</td><td>172</td><td>1040</td></tr>\n",
       "<tr><td>729061179</td><td>1</td><td>123</td><td>1010</td></tr>\n",
       "<tr><td>729061262</td><td>1</td><td>165</td><td>373</td></tr>\n",
       "<tr><td>729061679</td><td>1</td><td>101</td><td>666</td></tr>\n",
       "<tr><td>729062736</td><td>1</td><td>154</td><td>985</td></tr>\n",
       "</table></div>"
      ],
      "text/plain": [
       "<Table length=3842560>\n",
       "   time   detid pixid  pha \n",
       "  uint32  int16 int16 int16\n",
       "--------- ----- ----- -----\n",
       "        0     0     0     0\n",
       "        0     0     0     0\n",
       "        0     0     0     0\n",
       "        0     0     0     0\n",
       "        0     0     0     0\n",
       "        0     0     0     0\n",
       "      ...   ...   ...   ...\n",
       "729060084     1   181   599\n",
       "729060133     1     0   346\n",
       "729060432     1   172  1040\n",
       "729061179     1   123  1010\n",
       "729061262     1   165   373\n",
       "729061679     1   101   666\n",
       "729062736     1   154   985"
      ]
     },
     "execution_count": 3,
     "metadata": {},
     "output_type": "execute_result"
    }
   ],
   "source": [
    "data = hdul.data\n",
    "tab = Table(data)\n",
    "tab"
   ]
  },
  {
   "cell_type": "code",
   "execution_count": 4,
   "id": "2484ebc7",
   "metadata": {},
   "outputs": [
    {
     "data": {
      "text/plain": [
       "array([  0,   0,   0, ..., 165, 101, 154], dtype=int16)"
      ]
     },
     "execution_count": 4,
     "metadata": {},
     "output_type": "execute_result"
    }
   ],
   "source": [
    "data['pixid']"
   ]
  },
  {
   "cell_type": "code",
   "execution_count": 5,
   "id": "09d04a84",
   "metadata": {},
   "outputs": [],
   "source": [
    "#mask = 0 < np.any(data['pixid']) < 3"
   ]
  },
  {
   "cell_type": "code",
   "execution_count": 6,
   "id": "49715b39",
   "metadata": {},
   "outputs": [],
   "source": [
    "#plt.plot(data[\"pixid\"][mask],data[\"pha\"][mask])"
   ]
  },
  {
   "cell_type": "code",
   "execution_count": 7,
   "id": "1a654e47",
   "metadata": {},
   "outputs": [
    {
     "data": {
      "text/plain": [
       "FITS_rec([( 3883526042, 1, 5, 948), ( 4001674071, 1, 5, 785),\n",
       "          ( 4001810320, 1, 5, 963), ..., (  728819092, 1, 5, 694),\n",
       "          (  728880648, 1, 5, 427), (  728969007, 1, 5, 915)],\n",
       "         dtype=(numpy.record, [('time', '>i4'), ('detid', '>i2'), ('pixid', '>i2'), ('pha', '>i2')]))"
      ]
     },
     "execution_count": 7,
     "metadata": {},
     "output_type": "execute_result"
    }
   ],
   "source": [
    "detid = data[data['detid']== 1]\n",
    "data_ = detid[detid['pixid'] == 5]\n",
    "\n",
    "np.shape(data_)\n",
    "data_\n"
   ]
  },
  {
   "cell_type": "code",
   "execution_count": 8,
   "id": "fb6ffd3f",
   "metadata": {},
   "outputs": [],
   "source": [
    "tab = Table(data)\n",
    "#tab"
   ]
  },
  {
   "cell_type": "code",
   "execution_count": 9,
   "id": "c4bbce49",
   "metadata": {},
   "outputs": [
    {
     "data": {
      "text/html": [
       "<div><i>Table length=6494</i>\n",
       "<table id=\"table139760710802016\" class=\"table-striped table-bordered table-condensed\">\n",
       "<thead><tr><th>time</th><th>detid</th><th>pixid</th><th>pha</th></tr></thead>\n",
       "<thead><tr><th>uint32</th><th>int16</th><th>int16</th><th>int16</th></tr></thead>\n",
       "<tr><td>3883526042</td><td>1</td><td>5</td><td>948</td></tr>\n",
       "<tr><td>4001674071</td><td>1</td><td>5</td><td>785</td></tr>\n",
       "<tr><td>4001810320</td><td>1</td><td>5</td><td>963</td></tr>\n",
       "<tr><td>4001903159</td><td>1</td><td>5</td><td>634</td></tr>\n",
       "<tr><td>4002133295</td><td>1</td><td>5</td><td>795</td></tr>\n",
       "<tr><td>4002183145</td><td>1</td><td>5</td><td>872</td></tr>\n",
       "<tr><td>...</td><td>...</td><td>...</td><td>...</td></tr>\n",
       "<tr><td>727619279</td><td>1</td><td>5</td><td>937</td></tr>\n",
       "<tr><td>728017190</td><td>1</td><td>5</td><td>958</td></tr>\n",
       "<tr><td>728417826</td><td>1</td><td>5</td><td>959</td></tr>\n",
       "<tr><td>728630758</td><td>1</td><td>5</td><td>916</td></tr>\n",
       "<tr><td>728819092</td><td>1</td><td>5</td><td>694</td></tr>\n",
       "<tr><td>728880648</td><td>1</td><td>5</td><td>427</td></tr>\n",
       "<tr><td>728969007</td><td>1</td><td>5</td><td>915</td></tr>\n",
       "</table></div>"
      ],
      "text/plain": [
       "<Table length=6494>\n",
       "   time    detid pixid  pha \n",
       "  uint32   int16 int16 int16\n",
       "---------- ----- ----- -----\n",
       "3883526042     1     5   948\n",
       "4001674071     1     5   785\n",
       "4001810320     1     5   963\n",
       "4001903159     1     5   634\n",
       "4002133295     1     5   795\n",
       "4002183145     1     5   872\n",
       "       ...   ...   ...   ...\n",
       " 727619279     1     5   937\n",
       " 728017190     1     5   958\n",
       " 728417826     1     5   959\n",
       " 728630758     1     5   916\n",
       " 728819092     1     5   694\n",
       " 728880648     1     5   427\n",
       " 728969007     1     5   915"
      ]
     },
     "execution_count": 9,
     "metadata": {},
     "output_type": "execute_result"
    }
   ],
   "source": [
    "tab_ = Table(data_)\n",
    "tab_"
   ]
  },
  {
   "cell_type": "code",
   "execution_count": 10,
   "id": "c6716cb9",
   "metadata": {},
   "outputs": [
    {
     "data": {
      "text/plain": [
       "6494"
      ]
     },
     "execution_count": 10,
     "metadata": {},
     "output_type": "execute_result"
    }
   ],
   "source": [
    "len(np.unique(data_['time']))"
   ]
  },
  {
   "cell_type": "code",
   "execution_count": 11,
   "id": "79022234",
   "metadata": {},
   "outputs": [],
   "source": [
    "import matplotlib.pyplot as plt"
   ]
  },
  {
   "cell_type": "code",
   "execution_count": 12,
   "id": "ae267038",
   "metadata": {},
   "outputs": [
    {
     "data": {
      "text/plain": [
       "6494"
      ]
     },
     "execution_count": 12,
     "metadata": {},
     "output_type": "execute_result"
    }
   ],
   "source": [
    "len(data_['pha'])"
   ]
  },
  {
   "cell_type": "code",
   "execution_count": 13,
   "id": "637b4d06",
   "metadata": {},
   "outputs": [
    {
     "data": {
      "text/plain": [
       "80.58535847162312"
      ]
     },
     "execution_count": 13,
     "metadata": {},
     "output_type": "execute_result"
    }
   ],
   "source": [
    "np.sqrt(len(data_['PHA']))"
   ]
  },
  {
   "cell_type": "code",
   "execution_count": 14,
   "id": "e6192bc7",
   "metadata": {},
   "outputs": [
    {
     "data": {
      "text/plain": [
       "Text(0, 0.5, 'PHA')"
      ]
     },
     "execution_count": 14,
     "metadata": {},
     "output_type": "execute_result"
    },
    {
     "data": {
      "image/png": "[encoded data removed]",
      "text/plain": [
       "<Figure size 640x480 with 1 Axes>"
      ]
     },
     "metadata": {},
     "output_type": "display_data"
    }
   ],
   "source": [
    "plt.plot((data_['time']),(data_['pha']),\".\", label = 'Det 1, pixel = 5')\n",
    "plt.xlabel(\"Aqusiton time($\\mu$s)\")\n",
    "plt.legend()\n",
    "plt.ylabel(\"PHA\")\n",
    "#plt.xscale(\"log\")\n",
    "#plt.yscale(\"log\")\n",
    "#plt.xlim(0, 100000000)"
   ]
  },
  {
   "cell_type": "code",
   "execution_count": 39,
   "id": "5b626fff",
   "metadata": {},
   "outputs": [],
   "source": [
    " N,bins= np.histogram(data_['pha'], bins=300)\n",
    "# plt.xlabel(\"PHA\")\n",
    "# plt.ylabel(\"Counts\")\n",
    "# plt.legend()\n",
    "# plt.show()\n",
    "# len(bins)"
   ]
  },
  {
   "cell_type": "code",
   "execution_count": 40,
   "id": "f553ef6f",
   "metadata": {},
   "outputs": [
    {
     "data": {
      "text/plain": [
       "300"
      ]
     },
     "execution_count": 40,
     "metadata": {},
     "output_type": "execute_result"
    }
   ],
   "source": [
    "len(N)"
   ]
  },
  {
   "cell_type": "code",
   "execution_count": 41,
   "id": "b28fb6ce",
   "metadata": {},
   "outputs": [],
   "source": [
    "bin_centers = (bins[:-1] + bins[1:]) / 2"
   ]
  },
  {
   "cell_type": "code",
   "execution_count": 42,
   "id": "07fdebd4",
   "metadata": {},
   "outputs": [],
   "source": [
    "def gauss(x,amp,mean,stdev):\n",
    "    return amp*np.exp(-(x-mean)**2/(2*stdev**2))"
   ]
  },
  {
   "cell_type": "code",
   "execution_count": 43,
   "id": "73624f81",
   "metadata": {},
   "outputs": [
    {
     "data": {
      "text/plain": [
       "6.107321563648419e-166"
      ]
     },
     "execution_count": 43,
     "metadata": {},
     "output_type": "execute_result"
    }
   ],
   "source": [
    "gauss(1,10,9.3,0.3)"
   ]
  },
  {
   "cell_type": "code",
   "execution_count": 44,
   "id": "a8cdfe86",
   "metadata": {},
   "outputs": [],
   "source": [
    "p0 = [np.max(N),np.mean(data_['pha']),np.std(data_['pha'])]"
   ]
  },
  {
   "cell_type": "code",
   "execution_count": 45,
   "id": "082a0f7c",
   "metadata": {},
   "outputs": [
    {
     "data": {
      "text/plain": [
       "[391, 812.0495842315984, 211.0769844955152]"
      ]
     },
     "execution_count": 45,
     "metadata": {},
     "output_type": "execute_result"
    }
   ],
   "source": [
    "p0"
   ]
  },
  {
   "cell_type": "code",
   "execution_count": 46,
   "id": "d13cb15a",
   "metadata": {},
   "outputs": [],
   "source": [
    "from scipy.optimize import curve_fit"
   ]
  },
  {
   "cell_type": "code",
   "execution_count": 47,
   "id": "9c520c30",
   "metadata": {},
   "outputs": [
    {
     "data": {
      "text/plain": [
       "array([339.90123268, 912.50649272,  70.63430268])"
      ]
     },
     "execution_count": 47,
     "metadata": {},
     "output_type": "execute_result"
    }
   ],
   "source": [
    "params, pcov = curve_fit(gauss,bin_centers,N,p0)\n",
    "errors = np.sqrt(np.diag(pcov))\n",
    "params"
   ]
  },
  {
   "cell_type": "code",
   "execution_count": 48,
   "id": "1073ff34",
   "metadata": {},
   "outputs": [],
   "source": [
    "fit_curve = gauss(bin_centers,*params)"
   ]
  },
  {
   "cell_type": "code",
   "execution_count": 49,
   "id": "5738377e",
   "metadata": {},
   "outputs": [
    {
     "data": {
      "image/png": "[encoded data removed]",
      "text/plain": [
       "<Figure size 640x480 with 1 Axes>"
      ]
     },
     "metadata": {},
     "output_type": "display_data"
    },
    {
     "name": "stdout",
     "output_type": "stream",
     "text": [
      "No. of bins, Mean, Deviation\n",
      "339.9 +- 7.6\n",
      "912.5 +- 1.8\n",
      "70.6 +- 1.8\n",
      "Approximate resolution : 18.2%\n"
     ]
    }
   ],
   "source": [
    "plt.plot(bin_centers, fit_curve, 'r-', label='Gaussian Fit over full data')\n",
    "N,bins,_ = plt.hist(data_['pha'], bins=len(bins)-1, label=\"Det 1,pixel =5\")\n",
    "plt.xlabel(\"PHA\")\n",
    "plt.ylabel(\"Counts\")\n",
    "plt.legend()\n",
    "plt.show()\n",
    "print(\"No. of bins, Mean, Deviation\")\n",
    "for p,e in zip(params, errors):\n",
    "    print(f\"{p:0.1f} +- {e:0.1f}\")\n",
    "print(\"Approximate resolution : {:0.1f}%\".format(100* 2.35 * params[2] / params[1]))"
   ]
  },
  {
   "cell_type": "markdown",
   "id": "6c8eaa4f",
   "metadata": {},
   "source": [
    "with a certain range fitting\n"
   ]
  },
  {
   "cell_type": "code",
   "execution_count": 912,
   "id": "f3b4609c",
   "metadata": {},
   "outputs": [],
   "source": [
    "# min_val_PHA  = p0[1]-2*p0[2]\n",
    "# max_val_PHA  = p0[1]+3*p0[2]\n",
    "# min_val_PHA,max_val_PHA"
   ]
  },
  {
   "cell_type": "code",
   "execution_count": 913,
   "id": "844262ac",
   "metadata": {},
   "outputs": [],
   "source": [
    "min_val_PHA = 750\n",
    "max_val_PHA = 1250"
   ]
  },
  {
   "cell_type": "code",
   "execution_count": 914,
   "id": "d387eb32",
   "metadata": {},
   "outputs": [],
   "source": [
    "fit_range = np.where((min_val_PHA <=bins[:-1]) & (max_val_PHA >= bins[1:]))[0]\n",
    "#fit_range"
   ]
  },
  {
   "cell_type": "code",
   "execution_count": 915,
   "id": "722fa9ef",
   "metadata": {},
   "outputs": [],
   "source": [
    "fit_range_final = N[fit_range]\n",
    "#fit_range_final"
   ]
  },
  {
   "cell_type": "code",
   "execution_count": 916,
   "id": "6c2b568e",
   "metadata": {},
   "outputs": [],
   "source": [
    "fit_bin_center = (bins[:-1] + bins[1:]) / 2\n",
    "#fit_bin_center"
   ]
  },
  {
   "cell_type": "code",
   "execution_count": 917,
   "id": "8d4d3073",
   "metadata": {},
   "outputs": [],
   "source": [
    "bin_center_fit_range = fit_bin_center[fit_range]\n",
    "#bin_center_fit_range"
   ]
  },
  {
   "cell_type": "code",
   "execution_count": 918,
   "id": "712800a2",
   "metadata": {},
   "outputs": [
    {
     "data": {
      "text/plain": [
       "array([345.47854779, 913.7134017 ,  68.06131415])"
      ]
     },
     "execution_count": 918,
     "metadata": {},
     "output_type": "execute_result"
    }
   ],
   "source": [
    "params1, pcov1 = curve_fit(gauss,bin_center_fit_range,fit_range_final,p0)\n",
    "errors1 = np.sqrt(np.diag(pcov))\n",
    "params1"
   ]
  },
  {
   "cell_type": "code",
   "execution_count": 919,
   "id": "f3c83b42",
   "metadata": {},
   "outputs": [],
   "source": [
    "fit_curve1 = gauss(bin_center_fit_range, *params1)"
   ]
  },
  {
   "cell_type": "code",
   "execution_count": 920,
   "id": "483f0a2a",
   "metadata": {},
   "outputs": [
    {
     "data": {
      "image/png": "[encoded data removed]",
      "text/plain": [
       "<Figure size 640x480 with 1 Axes>"
      ]
     },
     "metadata": {},
     "output_type": "display_data"
    },
    {
     "name": "stdout",
     "output_type": "stream",
     "text": [
      "No. of bins, Mean, Deviation\n",
      "345.5 +- 7.6\n",
      "913.7 +- 1.8\n",
      "68.1 +- 1.8\n",
      "Approximate resolution : 17.5%\n"
     ]
    }
   ],
   "source": [
    "plt.bar(bin_center_fit_range,fit_range_final, alpha=0.5, label='Det 1,pixel =5  ')\n",
    "plt.plot(bin_center_fit_range, fit_curve1, 'r-', label='Gaussian Fit Sliced over Eu ')\n",
    "plt.xlabel(\"PHA\")\n",
    "plt.ylabel(\"Counts\")\n",
    "plt.legend()\n",
    "plt.show()\n",
    "print(\"No. of bins, Mean, Deviation\")\n",
    "for p,e in zip(params1, errors1):\n",
    "    print(f\"{p:0.1f} +- {e:0.1f}\")\n",
    "print(\"Approximate resolution : {:0.1f}%\".format(100* 2.35 * params1[2] / params1[1]))"
   ]
  },
  {
   "cell_type": "code",
   "execution_count": 921,
   "id": "05ca5faa",
   "metadata": {},
   "outputs": [
    {
     "data": {
      "text/plain": [
       "(array([345.47854779, 913.7134017 ,  68.06131415]),\n",
       " array([7.56691396, 1.81582155, 1.81582156]))"
      ]
     },
     "execution_count": 921,
     "metadata": {},
     "output_type": "execute_result"
    }
   ],
   "source": [
    "params1, errors1"
   ]
  },
  {
   "cell_type": "code",
   "execution_count": null,
   "id": "7ec78513",
   "metadata": {},
   "outputs": [],
   "source": []
  },
  {
   "cell_type": "code",
   "execution_count": null,
   "id": "64fa1a33",
   "metadata": {},
   "outputs": [],
   "source": []
  }
 ],
 "metadata": {
  "kernelspec": {
   "display_name": "Python 3 (ipykernel)",
   "language": "python",
   "name": "python3"
  },
  "language_info": {
   "codemirror_mode": {
    "name": "ipython",
    "version": 3
   },
   "file_extension": ".py",
   "mimetype": "text/x-python",
   "name": "python",
   "nbconvert_exporter": "python",
   "pygments_lexer": "ipython3",
   "version": "3.9.13"
  }
 },
 "nbformat": 4,
 "nbformat_minor": 5
}

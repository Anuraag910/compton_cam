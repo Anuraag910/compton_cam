{
 "cells": [
  {
   "cell_type": "code",
   "execution_count": 2,
   "id": "23f50d3d",
   "metadata": {},
   "outputs": [],
   "source": [
    "import numpy as np\n",
    "# import pandas as pd\n",
    "from astropy.table import Table\n",
    "import os, glob\n",
    "\n",
    "def data2fits(infile, outfile):\n",
    "    with open(infile, 'r') as f:\n",
    "        l1 = f.readline()\n",
    "\n",
    "    biglist = l1[1:-1].split(\",\")\n",
    "    event_data = np.array(biglist, dtype=np.uint64)\n",
    "    timestamp = np.uint32((event_data & 0xffffffff00000000) >> 32)\n",
    "    det_id = np.int16((event_data & 0x00000000ff000000) >> 24)\n",
    "    pix_id = np.int16((event_data & 0x0000000000ff0000) >> 16)\n",
    "    energy = np.int16((event_data & 0x000000000000ffff) >> 0)\n",
    "\n",
    "    tab = Table(data=(timestamp, det_id, pix_id, energy), names=(\"time\", \"detid\", \"pixid\", \"pha\"))\n",
    "    tab.write(outfile)\n",
    "\n",
    "    # df = pd.DataFrame(data=np.array([timestamp, det_id, pix_id, energy]).T, \n",
    "    #                   columns=(\"time\", \"detid\", \"pixid\", \"pha\"))\n",
    "    # detdata = df.groupby(df['detid'])\n",
    "\n",
    "if __name__ == \"__main__\":\n",
    "    basepath = 'tifr'\n",
    "    maxcount = -1 # Set <=0 if all files are to be processed, else end after this\n",
    "    # infile = '20230628_1418_am_stc1_2_50pkts_ext_hv_spectra.txt'\n",
    "    for count, infile in enumerate(glob.glob1(basepath, \"*.txt\")):\n",
    "        if count == maxcount:\n",
    "            print(f\"Stopping the loop, max count {maxcount} reached\")\n",
    "            break\n",
    "        outfile = os.path.join(basepath, infile.replace(\".txt\", \".fits\"))\n",
    "        if not os.path.exists(outfile):\n",
    "            print(f\"Converting {infile} to {outfile}\")\n",
    "            data2fits(os.path.join(basepath, infile), outfile)\n",
    "        else:\n",
    "            print(f\"Skipping {infile}: {outfile} already exists.\")"
   ]
  },
  {
   "cell_type": "code",
   "execution_count": null,
   "id": "7b936476",
   "metadata": {},
   "outputs": [],
   "source": []
  }
 ],
 "metadata": {
  "kernelspec": {
   "display_name": "Python 3 (ipykernel)",
   "language": "python",
   "name": "python3"
  },
  "language_info": {
   "codemirror_mode": {
    "name": "ipython",
    "version": 3
   },
   "file_extension": ".py",
   "mimetype": "text/x-python",
   "name": "python",
   "nbconvert_exporter": "python",
   "pygments_lexer": "ipython3",
   "version": "3.9.13"
  }
 },
 "nbformat": 4,
 "nbformat_minor": 5
}

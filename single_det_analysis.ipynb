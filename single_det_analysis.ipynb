{
 "cells": [
  {
   "cell_type": "code",
   "execution_count": 2,
   "id": "7c0ae6af",
   "metadata": {},
   "outputs": [],
   "source": [
    "from astropy.io import fits\n",
    "import numpy as np\n",
    "import astropy\n",
    "from astropy.table import Table\n",
    "import matplotlib.pyplot as plt"
   ]
  },
  {
   "cell_type": "code",
   "execution_count": 3,
   "id": "c51d6e1c",
   "metadata": {},
   "outputs": [],
   "source": [
    "path = '/home/suman/tifr/'\n",
    "file = path + '202307011_1506_Am241_on_det1_30000pkts.fits'\n",
    "\n",
    "hdul = fits.open(file)[1]"
   ]
  },
  {
   "cell_type": "code",
   "execution_count": 4,
   "id": "c75278dd",
   "metadata": {},
   "outputs": [
    {
     "data": {
      "text/html": [
       "<div><i>Table length=3842560</i>\n",
       "<table id=\"table140097939941600\" class=\"table-striped table-bordered table-condensed\">\n",
       "<thead><tr><th>time</th><th>detid</th><th>pixid</th><th>pha</th></tr></thead>\n",
       "<thead><tr><th>uint32</th><th>int16</th><th>int16</th><th>int16</th></tr></thead>\n",
       "<tr><td>0</td><td>0</td><td>0</td><td>0</td></tr>\n",
       "<tr><td>0</td><td>0</td><td>0</td><td>0</td></tr>\n",
       "<tr><td>0</td><td>0</td><td>0</td><td>0</td></tr>\n",
       "<tr><td>0</td><td>0</td><td>0</td><td>0</td></tr>\n",
       "<tr><td>0</td><td>0</td><td>0</td><td>0</td></tr>\n",
       "<tr><td>0</td><td>0</td><td>0</td><td>0</td></tr>\n",
       "<tr><td>...</td><td>...</td><td>...</td><td>...</td></tr>\n",
       "<tr><td>729060084</td><td>1</td><td>181</td><td>599</td></tr>\n",
       "<tr><td>729060133</td><td>1</td><td>0</td><td>346</td></tr>\n",
       "<tr><td>729060432</td><td>1</td><td>172</td><td>1040</td></tr>\n",
       "<tr><td>729061179</td><td>1</td><td>123</td><td>1010</td></tr>\n",
       "<tr><td>729061262</td><td>1</td><td>165</td><td>373</td></tr>\n",
       "<tr><td>729061679</td><td>1</td><td>101</td><td>666</td></tr>\n",
       "<tr><td>729062736</td><td>1</td><td>154</td><td>985</td></tr>\n",
       "</table></div>"
      ],
      "text/plain": [
       "<Table length=3842560>\n",
       "   time   detid pixid  pha \n",
       "  uint32  int16 int16 int16\n",
       "--------- ----- ----- -----\n",
       "        0     0     0     0\n",
       "        0     0     0     0\n",
       "        0     0     0     0\n",
       "        0     0     0     0\n",
       "        0     0     0     0\n",
       "        0     0     0     0\n",
       "      ...   ...   ...   ...\n",
       "729060084     1   181   599\n",
       "729060133     1     0   346\n",
       "729060432     1   172  1040\n",
       "729061179     1   123  1010\n",
       "729061262     1   165   373\n",
       "729061679     1   101   666\n",
       "729062736     1   154   985"
      ]
     },
     "execution_count": 4,
     "metadata": {},
     "output_type": "execute_result"
    }
   ],
   "source": [
    "data = hdul.data\n",
    "tab = Table(data)\n",
    "tab"
   ]
  },
  {
   "cell_type": "code",
   "execution_count": 5,
   "id": "2484ebc7",
   "metadata": {},
   "outputs": [
    {
     "data": {
      "text/plain": [
       "array([  0,   0,   0, ..., 165, 101, 154], dtype=int16)"
      ]
     },
     "execution_count": 5,
     "metadata": {},
     "output_type": "execute_result"
    }
   ],
   "source": [
    "data['pixid']"
   ]
  },
  {
   "cell_type": "code",
   "execution_count": 6,
   "id": "09d04a84",
   "metadata": {},
   "outputs": [],
   "source": [
    "#mask = 0 < np.any(data['pixid']) < 3"
   ]
  },
  {
   "cell_type": "code",
   "execution_count": 7,
   "id": "49715b39",
   "metadata": {},
   "outputs": [],
   "source": [
    "#plt.plot(data[\"pixid\"][mask],data[\"pha\"][mask])"
   ]
  },
  {
   "cell_type": "code",
   "execution_count": 10,
   "id": "1a654e47",
   "metadata": {},
   "outputs": [
    {
     "data": {
      "text/plain": [
       "FITS_rec([( 3883520021, 1, 224, 339), ( 3883520048, 1, 252, 389),\n",
       "          ( 3883520075, 1, 247, 371), ..., (  729061262, 1, 165, 373),\n",
       "          (  729061679, 1, 101, 666), (  729062736, 1, 154, 985)],\n",
       "         dtype=(numpy.record, [('time', '>i4'), ('detid', '>i2'), ('pixid', '>i2'), ('pha', '>i2')]))"
      ]
     },
     "execution_count": 10,
     "metadata": {},
     "output_type": "execute_result"
    }
   ],
   "source": [
    "detid = data[data['detid']== 1]\n",
    "\n",
    "np.shape(detid)\n",
    "detid\n"
   ]
  },
  {
   "cell_type": "code",
   "execution_count": 12,
   "id": "fb6ffd3f",
   "metadata": {},
   "outputs": [
    {
     "data": {
      "text/html": [
       "<div><i>Table length=3842560</i>\n",
       "<table id=\"table140097940133344\" class=\"table-striped table-bordered table-condensed\">\n",
       "<thead><tr><th>time</th><th>detid</th><th>pixid</th><th>pha</th></tr></thead>\n",
       "<thead><tr><th>uint32</th><th>int16</th><th>int16</th><th>int16</th></tr></thead>\n",
       "<tr><td>0</td><td>0</td><td>0</td><td>0</td></tr>\n",
       "<tr><td>0</td><td>0</td><td>0</td><td>0</td></tr>\n",
       "<tr><td>0</td><td>0</td><td>0</td><td>0</td></tr>\n",
       "<tr><td>0</td><td>0</td><td>0</td><td>0</td></tr>\n",
       "<tr><td>0</td><td>0</td><td>0</td><td>0</td></tr>\n",
       "<tr><td>0</td><td>0</td><td>0</td><td>0</td></tr>\n",
       "<tr><td>...</td><td>...</td><td>...</td><td>...</td></tr>\n",
       "<tr><td>729060084</td><td>1</td><td>181</td><td>599</td></tr>\n",
       "<tr><td>729060133</td><td>1</td><td>0</td><td>346</td></tr>\n",
       "<tr><td>729060432</td><td>1</td><td>172</td><td>1040</td></tr>\n",
       "<tr><td>729061179</td><td>1</td><td>123</td><td>1010</td></tr>\n",
       "<tr><td>729061262</td><td>1</td><td>165</td><td>373</td></tr>\n",
       "<tr><td>729061679</td><td>1</td><td>101</td><td>666</td></tr>\n",
       "<tr><td>729062736</td><td>1</td><td>154</td><td>985</td></tr>\n",
       "</table></div>"
      ],
      "text/plain": [
       "<Table length=3842560>\n",
       "   time   detid pixid  pha \n",
       "  uint32  int16 int16 int16\n",
       "--------- ----- ----- -----\n",
       "        0     0     0     0\n",
       "        0     0     0     0\n",
       "        0     0     0     0\n",
       "        0     0     0     0\n",
       "        0     0     0     0\n",
       "        0     0     0     0\n",
       "      ...   ...   ...   ...\n",
       "729060084     1   181   599\n",
       "729060133     1     0   346\n",
       "729060432     1   172  1040\n",
       "729061179     1   123  1010\n",
       "729061262     1   165   373\n",
       "729061679     1   101   666\n",
       "729062736     1   154   985"
      ]
     },
     "execution_count": 12,
     "metadata": {},
     "output_type": "execute_result"
    }
   ],
   "source": [
    "tab = Table(data)\n",
    "#tab"
   ]
  },
  {
   "cell_type": "code",
   "execution_count": 13,
   "id": "c4bbce49",
   "metadata": {},
   "outputs": [
    {
     "data": {
      "text/html": [
       "<div><i>Table length=2339639</i>\n",
       "<table id=\"table140097940134064\" class=\"table-striped table-bordered table-condensed\">\n",
       "<thead><tr><th>time</th><th>detid</th><th>pixid</th><th>pha</th></tr></thead>\n",
       "<thead><tr><th>uint32</th><th>int16</th><th>int16</th><th>int16</th></tr></thead>\n",
       "<tr><td>3883520021</td><td>1</td><td>224</td><td>339</td></tr>\n",
       "<tr><td>3883520048</td><td>1</td><td>252</td><td>389</td></tr>\n",
       "<tr><td>3883520075</td><td>1</td><td>247</td><td>371</td></tr>\n",
       "<tr><td>3883520102</td><td>1</td><td>91</td><td>1032</td></tr>\n",
       "<tr><td>3883520129</td><td>1</td><td>0</td><td>550</td></tr>\n",
       "<tr><td>3883520156</td><td>1</td><td>253</td><td>426</td></tr>\n",
       "<tr><td>...</td><td>...</td><td>...</td><td>...</td></tr>\n",
       "<tr><td>729060084</td><td>1</td><td>181</td><td>599</td></tr>\n",
       "<tr><td>729060133</td><td>1</td><td>0</td><td>346</td></tr>\n",
       "<tr><td>729060432</td><td>1</td><td>172</td><td>1040</td></tr>\n",
       "<tr><td>729061179</td><td>1</td><td>123</td><td>1010</td></tr>\n",
       "<tr><td>729061262</td><td>1</td><td>165</td><td>373</td></tr>\n",
       "<tr><td>729061679</td><td>1</td><td>101</td><td>666</td></tr>\n",
       "<tr><td>729062736</td><td>1</td><td>154</td><td>985</td></tr>\n",
       "</table></div>"
      ],
      "text/plain": [
       "<Table length=2339639>\n",
       "   time    detid pixid  pha \n",
       "  uint32   int16 int16 int16\n",
       "---------- ----- ----- -----\n",
       "3883520021     1   224   339\n",
       "3883520048     1   252   389\n",
       "3883520075     1   247   371\n",
       "3883520102     1    91  1032\n",
       "3883520129     1     0   550\n",
       "3883520156     1   253   426\n",
       "       ...   ...   ...   ...\n",
       " 729060084     1   181   599\n",
       " 729060133     1     0   346\n",
       " 729060432     1   172  1040\n",
       " 729061179     1   123  1010\n",
       " 729061262     1   165   373\n",
       " 729061679     1   101   666\n",
       " 729062736     1   154   985"
      ]
     },
     "execution_count": 13,
     "metadata": {},
     "output_type": "execute_result"
    }
   ],
   "source": [
    "tab_ = Table(detid)\n",
    "tab_"
   ]
  },
  {
   "cell_type": "code",
   "execution_count": 15,
   "id": "c6716cb9",
   "metadata": {},
   "outputs": [
    {
     "data": {
      "text/plain": [
       "2339639"
      ]
     },
     "execution_count": 15,
     "metadata": {},
     "output_type": "execute_result"
    }
   ],
   "source": [
    "len(np.unique(detid['time']))"
   ]
  },
  {
   "cell_type": "code",
   "execution_count": 295,
   "id": "79022234",
   "metadata": {},
   "outputs": [],
   "source": [
    "import matplotlib.pyplot as plt"
   ]
  },
  {
   "cell_type": "code",
   "execution_count": 16,
   "id": "ae267038",
   "metadata": {},
   "outputs": [
    {
     "data": {
      "text/plain": [
       "2339639"
      ]
     },
     "execution_count": 16,
     "metadata": {},
     "output_type": "execute_result"
    }
   ],
   "source": [
    "len(detid['pha'])"
   ]
  },
  {
   "cell_type": "code",
   "execution_count": 17,
   "id": "e6192bc7",
   "metadata": {},
   "outputs": [
    {
     "data": {
      "image/png": "[encoded data removed]",
      "text/plain": [
       "<Figure size 640x480 with 1 Axes>"
      ]
     },
     "metadata": {},
     "output_type": "display_data"
    }
   ],
   "source": [
    "plt.plot((detid['time']),(detid['pha']),\".\")\n",
    "plt.xlabel(\"Aqusiton time\")\n",
    "plt.ylabel(\"PHA\")\n",
    "plt.xscale(\"log\")\n",
    "plt.yscale(\"log\")\n",
    "#plt.xlim(0, 100000000)"
   ]
  },
  {
   "cell_type": "code",
   "execution_count": 18,
   "id": "5b626fff",
   "metadata": {},
   "outputs": [
    {
     "data": {
      "image/png": "[encoded data removed]",
      "text/plain": [
       "<Figure size 640x480 with 1 Axes>"
      ]
     },
     "metadata": {},
     "output_type": "display_data"
    },
    {
     "data": {
      "text/plain": [
       "501"
      ]
     },
     "execution_count": 18,
     "metadata": {},
     "output_type": "execute_result"
    }
   ],
   "source": [
    "N,bins,_ = plt.hist(detid['pha'], bins=500)\n",
    "plt.xlabel(\"PHA\")\n",
    "plt.ylabel(\"No. of Counts\")\n",
    "plt.show()\n",
    "len(bins)"
   ]
  },
  {
   "cell_type": "code",
   "execution_count": 19,
   "id": "b32c5fb7",
   "metadata": {},
   "outputs": [
    {
     "data": {
      "text/plain": [
       "500"
      ]
     },
     "execution_count": 19,
     "metadata": {},
     "output_type": "execute_result"
    }
   ],
   "source": [
    "len(N)"
   ]
  },
  {
   "cell_type": "code",
   "execution_count": 20,
   "id": "399afa88",
   "metadata": {},
   "outputs": [],
   "source": [
    "bin_centers = (bins[:-1] + bins[1:]) / 2"
   ]
  },
  {
   "cell_type": "code",
   "execution_count": 21,
   "id": "07fdebd4",
   "metadata": {},
   "outputs": [],
   "source": [
    "def gauss(x,amp,mean,stdev):\n",
    "    return amp*np.exp(-(x-mean)**2/(2*stdev**2))"
   ]
  },
  {
   "cell_type": "code",
   "execution_count": 22,
   "id": "73624f81",
   "metadata": {},
   "outputs": [
    {
     "data": {
      "text/plain": [
       "6.107321563648419e-166"
      ]
     },
     "execution_count": 22,
     "metadata": {},
     "output_type": "execute_result"
    }
   ],
   "source": [
    "gauss(1,10,9.3,0.3)"
   ]
  },
  {
   "cell_type": "code",
   "execution_count": 24,
   "id": "df6336f3",
   "metadata": {},
   "outputs": [],
   "source": [
    "p0 = [np.max(N),np.mean(detid['pha']),np.std(detid['pha'])]"
   ]
  },
  {
   "cell_type": "code",
   "execution_count": 25,
   "id": "bdb51932",
   "metadata": {},
   "outputs": [
    {
     "data": {
      "text/plain": [
       "[62143.0, 819.4146357621838, 238.9967530528946]"
      ]
     },
     "execution_count": 25,
     "metadata": {},
     "output_type": "execute_result"
    }
   ],
   "source": [
    "p0"
   ]
  },
  {
   "cell_type": "code",
   "execution_count": 26,
   "id": "f6bb142a",
   "metadata": {},
   "outputs": [],
   "source": [
    "from scipy.optimize import curve_fit"
   ]
  },
  {
   "cell_type": "code",
   "execution_count": 27,
   "id": "7e55301f",
   "metadata": {},
   "outputs": [],
   "source": [
    "params, pcov = curve_fit(gauss,bin_centers,N,p0)\n",
    "errors = np.sqrt(np.diag(pcov))"
   ]
  },
  {
   "cell_type": "code",
   "execution_count": 28,
   "id": "127f2074",
   "metadata": {},
   "outputs": [
    {
     "name": "stdout",
     "output_type": "stream",
     "text": [
      "Fit results\n",
      "58291.3 +- 1303.3\n",
      "962.6 +- 2.3\n",
      "88.4 +- 2.3\n",
      "Approximate resolution : 21.6%\n"
     ]
    }
   ],
   "source": [
    "print(\"Fit results\")\n",
    "for p,e in zip(params, errors):\n",
    "    print(f\"{p:0.1f} +- {e:0.1f}\")\n",
    "print(\"Approximate resolution : {:0.1f}%\".format(100* 2.35 * params[2] / params[1]))"
   ]
  },
  {
   "cell_type": "code",
   "execution_count": 29,
   "id": "98046c2f",
   "metadata": {},
   "outputs": [],
   "source": [
    "fit_curve = gauss(bin_centers,*params)"
   ]
  },
  {
   "cell_type": "code",
   "execution_count": 31,
   "id": "6635ab78",
   "metadata": {},
   "outputs": [
    {
     "data": {
      "image/png": "[encoded data removed]",
      "text/plain": [
       "<Figure size 640x480 with 1 Axes>"
      ]
     },
     "metadata": {},
     "output_type": "display_data"
    }
   ],
   "source": [
    "plt.plot(bin_centers, fit_curve, 'r-', label='Gaussian Fit')\n",
    "N,bins,_ = plt.hist(detid['pha'], bins=len(bins)-1)\n",
    "plt.xlabel(\"PHA\")\n",
    "plt.ylabel(\"No. of Counts\")\n",
    "plt.show()"
   ]
  },
  {
   "cell_type": "code",
   "execution_count": null,
   "id": "165404cf",
   "metadata": {},
   "outputs": [],
   "source": []
  }
 ],
 "metadata": {
  "kernelspec": {
   "display_name": "Python 3 (ipykernel)",
   "language": "python",
   "name": "python3"
  },
  "language_info": {
   "codemirror_mode": {
    "name": "ipython",
    "version": 3
   },
   "file_extension": ".py",
   "mimetype": "text/x-python",
   "name": "python",
   "nbconvert_exporter": "python",
   "pygments_lexer": "ipython3",
   "version": "3.9.13"
  }
 },
 "nbformat": 4,
 "nbformat_minor": 5
}
